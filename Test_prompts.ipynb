{
 "cells": [
  {
   "cell_type": "code",
   "execution_count": 6,
   "id": "c641cfa1",
   "metadata": {},
   "outputs": [
    {
     "name": "stdout",
     "output_type": "stream",
     "text": [
      "{'answer': ''}\n"
     ]
    }
   ],
   "source": [
    "import requests, json, textwrap, pprint\n",
    "url = \"http://127.0.0.1:8000/chat\"\n",
    "payload = {\n",
    "    \"user_query\": \"¿Qué significa tener hemoglobina baja?\",\n",
    "    \"patient_id\": \"123456\"\n",
    "}\n",
    "print(requests.post(url, json=payload).json())"
   ]
  },
  {
   "cell_type": "code",
   "execution_count": 9,
   "id": "18439c4e",
   "metadata": {},
   "outputs": [
    {
     "name": "stderr",
     "output_type": "stream",
     "text": [
      "Failed to send telemetry event ClientStartEvent: capture() takes 1 positional argument but 3 were given\n",
      "Failed to send telemetry event ClientCreateCollectionEvent: capture() takes 1 positional argument but 3 were given\n"
     ]
    },
    {
     "name": "stdout",
     "output_type": "stream",
     "text": [
      "Documentos en el índice: 7596\n"
     ]
    }
   ],
   "source": [
    "from langchain_chroma import Chroma\n",
    "db = Chroma(persist_directory=\"RAG/chroma\")\n",
    "print(\"Documentos en el índice:\", db._collection.count())"
   ]
  },
  {
   "cell_type": "code",
   "execution_count": 10,
   "id": "c5008293",
   "metadata": {},
   "outputs": [
    {
     "ename": "NameError",
     "evalue": "name 'RAG_chatbot' is not defined",
     "output_type": "error",
     "traceback": [
      "\u001b[1;31m---------------------------------------------------------------------------\u001b[0m",
      "\u001b[1;31mNameError\u001b[0m                                 Traceback (most recent call last)",
      "Cell \u001b[1;32mIn[10], line 1\u001b[0m\n\u001b[1;32m----> 1\u001b[0m bot \u001b[38;5;241m=\u001b[39m RAG_chatbot()\n\u001b[0;32m      2\u001b[0m bot\u001b[38;5;241m.\u001b[39mpopulate_chroma()\n",
      "\u001b[1;31mNameError\u001b[0m: name 'RAG_chatbot' is not defined"
     ]
    }
   ],
   "source": [
    "bot = RAG_chatbot()\n",
    "bot.populate_chroma()   # ejecuta y genera embeddings"
   ]
  },
  {
   "cell_type": "code",
   "execution_count": 12,
   "id": "2c92666a",
   "metadata": {},
   "outputs": [
    {
     "ename": "HTTPStatusError",
     "evalue": "Client error '401 Unauthorized' for url 'https://cancer-care-fhir-api.onrender.com/fhir/Patient?_id=123456'\nFor more information check: https://developer.mozilla.org/en-US/docs/Web/HTTP/Status/401",
     "output_type": "error",
     "traceback": [
      "\u001b[1;31m---------------------------------------------------------------------------\u001b[0m",
      "\u001b[1;31mHTTPStatusError\u001b[0m                           Traceback (most recent call last)",
      "File \u001b[1;32mc:\\Users\\Usuario\\Desktop\\Agentic-RAG-main\\ClinicalAssistant\\services\\fhir_client.py:68\u001b[0m, in \u001b[0;36mFHIRClient.get_patient_by_id\u001b[1;34m(self, patient_id)\u001b[0m\n\u001b[0;32m     67\u001b[0m \u001b[38;5;28;01mtry\u001b[39;00m:\n\u001b[1;32m---> 68\u001b[0m     \u001b[38;5;28;01mreturn\u001b[39;00m \u001b[38;5;28mself\u001b[39m\u001b[38;5;241m.\u001b[39m_request(\u001b[38;5;124m\"\u001b[39m\u001b[38;5;124mGET\u001b[39m\u001b[38;5;124m\"\u001b[39m, \u001b[38;5;124mf\u001b[39m\u001b[38;5;124m\"\u001b[39m\u001b[38;5;124m/fhir/Patient/\u001b[39m\u001b[38;5;132;01m{\u001b[39;00mpatient_id\u001b[38;5;132;01m}\u001b[39;00m\u001b[38;5;124m\"\u001b[39m)   \u001b[38;5;66;03m# READ\u001b[39;00m\n\u001b[0;32m     69\u001b[0m \u001b[38;5;28;01mexcept\u001b[39;00m httpx\u001b[38;5;241m.\u001b[39mHTTPStatusError \u001b[38;5;28;01mas\u001b[39;00m exc:\n",
      "File \u001b[1;32mc:\\Users\\Usuario\\Desktop\\Agentic-RAG-main\\ClinicalAssistant\\services\\fhir_client.py:55\u001b[0m, in \u001b[0;36mFHIRClient._request\u001b[1;34m(self, method, path, **kwargs)\u001b[0m\n\u001b[0;32m     54\u001b[0m r \u001b[38;5;241m=\u001b[39m \u001b[38;5;28mself\u001b[39m\u001b[38;5;241m.\u001b[39mclient\u001b[38;5;241m.\u001b[39mrequest(method, url, headers\u001b[38;5;241m=\u001b[39mheaders, \u001b[38;5;241m*\u001b[39m\u001b[38;5;241m*\u001b[39mkwargs)\n\u001b[1;32m---> 55\u001b[0m r\u001b[38;5;241m.\u001b[39mraise_for_status()\n\u001b[0;32m     56\u001b[0m \u001b[38;5;28;01mreturn\u001b[39;00m r\u001b[38;5;241m.\u001b[39mjson()\n",
      "File \u001b[1;32mc:\\Users\\Usuario\\anaconda3\\Lib\\site-packages\\httpx\\_models.py:761\u001b[0m, in \u001b[0;36mResponse.raise_for_status\u001b[1;34m(self)\u001b[0m\n\u001b[0;32m    760\u001b[0m message \u001b[38;5;241m=\u001b[39m message\u001b[38;5;241m.\u001b[39mformat(\u001b[38;5;28mself\u001b[39m, error_type\u001b[38;5;241m=\u001b[39merror_type)\n\u001b[1;32m--> 761\u001b[0m \u001b[38;5;28;01mraise\u001b[39;00m HTTPStatusError(message, request\u001b[38;5;241m=\u001b[39mrequest, response\u001b[38;5;241m=\u001b[39m\u001b[38;5;28mself\u001b[39m)\n",
      "\u001b[1;31mHTTPStatusError\u001b[0m: Client error '404 Not Found' for url 'https://cancer-care-fhir-api.onrender.com/fhir/Patient/123456'\nFor more information check: https://developer.mozilla.org/en-US/docs/Web/HTTP/Status/404",
      "\nDuring handling of the above exception, another exception occurred:\n",
      "\u001b[1;31mHTTPStatusError\u001b[0m                           Traceback (most recent call last)",
      "Cell \u001b[1;32mIn[12], line 3\u001b[0m\n\u001b[0;32m      1\u001b[0m \u001b[38;5;28;01mfrom\u001b[39;00m \u001b[38;5;21;01mservices\u001b[39;00m\u001b[38;5;21;01m.\u001b[39;00m\u001b[38;5;21;01mfhir_client\u001b[39;00m \u001b[38;5;28;01mimport\u001b[39;00m FHIRClient\n\u001b[0;32m      2\u001b[0m f \u001b[38;5;241m=\u001b[39m FHIRClient()\n\u001b[1;32m----> 3\u001b[0m \u001b[38;5;28mprint\u001b[39m(f\u001b[38;5;241m.\u001b[39mget_patient_by_id(\u001b[38;5;124m\"\u001b[39m\u001b[38;5;124m123456\u001b[39m\u001b[38;5;124m\"\u001b[39m))\n\u001b[0;32m      4\u001b[0m \u001b[38;5;28mprint\u001b[39m(f\u001b[38;5;241m.\u001b[39mget_observations(\u001b[38;5;124m\"\u001b[39m\u001b[38;5;124m123456\u001b[39m\u001b[38;5;124m\"\u001b[39m))\n\u001b[0;32m      5\u001b[0m \u001b[38;5;28mprint\u001b[39m(f\u001b[38;5;241m.\u001b[39mget_medications(\u001b[38;5;124m\"\u001b[39m\u001b[38;5;124m123456\u001b[39m\u001b[38;5;124m\"\u001b[39m))\n",
      "File \u001b[1;32mc:\\Users\\Usuario\\Desktop\\Agentic-RAG-main\\ClinicalAssistant\\services\\fhir_client.py:73\u001b[0m, in \u001b[0;36mFHIRClient.get_patient_by_id\u001b[1;34m(self, patient_id)\u001b[0m\n\u001b[0;32m     71\u001b[0m     \u001b[38;5;28;01mraise\u001b[39;00m                     \u001b[38;5;66;03m# otro error ⇒ propágalo\u001b[39;00m\n\u001b[0;32m     72\u001b[0m \u001b[38;5;66;03m# --- fallback SEARCH ---\u001b[39;00m\n\u001b[1;32m---> 73\u001b[0m bundle \u001b[38;5;241m=\u001b[39m \u001b[38;5;28mself\u001b[39m\u001b[38;5;241m.\u001b[39m_request(\u001b[38;5;124m\"\u001b[39m\u001b[38;5;124mGET\u001b[39m\u001b[38;5;124m\"\u001b[39m, \u001b[38;5;124mf\u001b[39m\u001b[38;5;124m\"\u001b[39m\u001b[38;5;124m/fhir/Patient?_id=\u001b[39m\u001b[38;5;132;01m{\u001b[39;00mpatient_id\u001b[38;5;132;01m}\u001b[39;00m\u001b[38;5;124m\"\u001b[39m)\n\u001b[0;32m     74\u001b[0m entries \u001b[38;5;241m=\u001b[39m bundle\u001b[38;5;241m.\u001b[39mget(\u001b[38;5;124m\"\u001b[39m\u001b[38;5;124mentry\u001b[39m\u001b[38;5;124m\"\u001b[39m, [])\n\u001b[0;32m     75\u001b[0m \u001b[38;5;28;01mif\u001b[39;00m \u001b[38;5;129;01mnot\u001b[39;00m entries:\n",
      "File \u001b[1;32mc:\\Users\\Usuario\\Desktop\\Agentic-RAG-main\\ClinicalAssistant\\services\\fhir_client.py:55\u001b[0m, in \u001b[0;36mFHIRClient._request\u001b[1;34m(self, method, path, **kwargs)\u001b[0m\n\u001b[0;32m     52\u001b[0m headers\u001b[38;5;241m.\u001b[39mupdate(\u001b[38;5;28mself\u001b[39m\u001b[38;5;241m.\u001b[39m_auth_headers())\n\u001b[0;32m     54\u001b[0m r \u001b[38;5;241m=\u001b[39m \u001b[38;5;28mself\u001b[39m\u001b[38;5;241m.\u001b[39mclient\u001b[38;5;241m.\u001b[39mrequest(method, url, headers\u001b[38;5;241m=\u001b[39mheaders, \u001b[38;5;241m*\u001b[39m\u001b[38;5;241m*\u001b[39mkwargs)\n\u001b[1;32m---> 55\u001b[0m r\u001b[38;5;241m.\u001b[39mraise_for_status()\n\u001b[0;32m     56\u001b[0m \u001b[38;5;28;01mreturn\u001b[39;00m r\u001b[38;5;241m.\u001b[39mjson()\n",
      "File \u001b[1;32mc:\\Users\\Usuario\\anaconda3\\Lib\\site-packages\\httpx\\_models.py:761\u001b[0m, in \u001b[0;36mResponse.raise_for_status\u001b[1;34m(self)\u001b[0m\n\u001b[0;32m    759\u001b[0m error_type \u001b[38;5;241m=\u001b[39m error_types\u001b[38;5;241m.\u001b[39mget(status_class, \u001b[38;5;124m\"\u001b[39m\u001b[38;5;124mInvalid status code\u001b[39m\u001b[38;5;124m\"\u001b[39m)\n\u001b[0;32m    760\u001b[0m message \u001b[38;5;241m=\u001b[39m message\u001b[38;5;241m.\u001b[39mformat(\u001b[38;5;28mself\u001b[39m, error_type\u001b[38;5;241m=\u001b[39merror_type)\n\u001b[1;32m--> 761\u001b[0m \u001b[38;5;28;01mraise\u001b[39;00m HTTPStatusError(message, request\u001b[38;5;241m=\u001b[39mrequest, response\u001b[38;5;241m=\u001b[39m\u001b[38;5;28mself\u001b[39m)\n",
      "\u001b[1;31mHTTPStatusError\u001b[0m: Client error '401 Unauthorized' for url 'https://cancer-care-fhir-api.onrender.com/fhir/Patient?_id=123456'\nFor more information check: https://developer.mozilla.org/en-US/docs/Web/HTTP/Status/401"
     ]
    }
   ],
   "source": [
    "from services.fhir_client import FHIRClient\n",
    "f = FHIRClient()\n",
    "print(f.get_patient_by_id(\"123456\"))\n",
    "print(f.get_observations(\"123456\"))\n",
    "print(f.get_medications(\"123456\"))"
   ]
  },
  {
   "cell_type": "code",
   "execution_count": 3,
   "id": "a5bc6bcf",
   "metadata": {},
   "outputs": [
    {
     "name": "stdout",
     "output_type": "stream",
     "text": [
      "Código: 401\n",
      "JSON: {'error': 'Falta header de autorización o es inválido'}\n"
     ]
    }
   ],
   "source": [
    "import requests\n",
    "\n",
    "url = \"https://cancer-care-fhir-api.onrender.com/fhir/Patient?_count=1\"\n",
    "headers = {\"Accept\": \"application/fhir+json\"}\n",
    "\n",
    "resp = requests.get(url, headers=headers, timeout=20)\n",
    "\n",
    "print(\"Código:\", resp.status_code)\n",
    "print(\"JSON:\", resp.json())"
   ]
  },
  {
   "cell_type": "code",
   "execution_count": 4,
   "id": "4e04a249",
   "metadata": {},
   "outputs": [
    {
     "name": "stdout",
     "output_type": "stream",
     "text": [
      "{'entry': [{'resource': {'birthDate': '1990-04-13',\n",
      "                         'gender': 'male',\n",
      "                         'id': 'paciente-duplicado',\n",
      "                         'identifier': [{'system': 'http://hospital.saludinteligente.ejemplo/pacientes',\n",
      "                                         'value': 'MRN279933'}],\n",
      "                         'name': [{'family': 'López', 'given': ['Ana']}],\n",
      "                         'resourceType': 'Patient'}},\n",
      "           {'resource': {'birthDate': '1966-10-15',\n",
      "                         'gender': 'female',\n",
      "                         'id': 'paciente-1',\n",
      "                         'identifier': [{'system': 'http://hospital.saludinteligente.ejemplo/pacientes',\n",
      "                                         'value': 'MRN856268'}],\n",
      "                         'name': [{'family': 'González', 'given': ['José']}],\n",
      "                         'resourceType': 'Patient'}},\n",
      "           {'resource': {'birthDate': '1955-05-17',\n",
      "                         'gender': 'female',\n",
      "                         'id': 'paciente-2',\n",
      "                         'identifier': [{'system': 'http://hospital.saludinteligente.ejemplo/pacientes',\n",
      "                                         'value': 'MRN810772'}],\n",
      "                         'name': [{'family': 'Rodríguez', 'given': ['Carmen']}],\n",
      "                         'resourceType': 'Patient'}},\n",
      "           {'resource': {'birthDate': '1950-11-01',\n",
      "                         'gender': 'male',\n",
      "                         'id': 'paciente-3',\n",
      "                         'name': [{'family': 'López', 'given': ['Ana']}],\n",
      "                         'resourceType': 'Patient'}}],\n",
      " 'link': [{'relation': 'next',\n",
      "           'url': '/fhir/Patient?_getpages=63286b43-ab8a-4d72-b739-d08b7abc950e&_count=10'}],\n",
      " 'resourceType': 'Bundle',\n",
      " 'total': 4,\n",
      " 'type': 'searchset'}\n",
      "\n",
      "✅ patient_id = paciente-duplicado\n",
      "\n",
      "Nombre: José Rodríguez\n",
      "\n",
      "Observations entries: 13\n",
      "Medication entries : 0\n"
     ]
    }
   ],
   "source": [
    "from services.fhir_client import FHIRClient\n",
    "import pprint, textwrap\n",
    "\n",
    "fhir = FHIRClient()           # ← usa las credenciales de tu clase\n",
    "\n",
    "# 1) Bundle con 1 paciente\n",
    "bundle = fhir.get_patients(count=1)\n",
    "pprint.pprint(bundle)\n",
    "\n",
    "# 2) Extrae el primer ID real\n",
    "patient_id = bundle[\"entry\"][0][\"resource\"][\"id\"]\n",
    "print(\"\\n✅ patient_id =\", patient_id)\n",
    "\n",
    "# 3) Pide el recurso Patient completo\n",
    "patient = fhir.get_patient_by_id(patient_id)\n",
    "print(\"\\nNombre:\",\n",
    "      patient[\"name\"][0][\"given\"][0],\n",
    "      patient[\"name\"][0][\"family\"])\n",
    "\n",
    "# 4) Observaciones\n",
    "labs = fhir.get_observations(patient_id)\n",
    "print(\"\\nObservations entries:\", len(labs.get(\"entry\", [])))\n",
    "\n",
    "# 5) Medicaciones\n",
    "meds = fhir.get_medications(patient_id)\n",
    "print(\"Medication entries :\", len(meds.get(\"entry\", [])))\n"
   ]
  },
  {
   "cell_type": "code",
   "execution_count": 17,
   "id": "1de8d52e",
   "metadata": {},
   "outputs": [
    {
     "name": "stdout",
     "output_type": "stream",
     "text": [
      "María\n"
     ]
    }
   ],
   "source": [
    "from services.fhir_client import FHIRClient\n",
    "f = FHIRClient()\n",
    "patient = f.get_patient_by_id(\"paciente-1\")   # o el id real que obtuviste\n",
    "print(patient[\"name\"][0][\"given\"][0])"
   ]
  },
  {
   "cell_type": "code",
   "execution_count": 6,
   "id": "199a9c71",
   "metadata": {},
   "outputs": [
    {
     "name": "stdout",
     "output_type": "stream",
     "text": [
      "{'answer': ''}\n"
     ]
    }
   ],
   "source": [
    "payload = {\n",
    "    \"user_query\": \"¿Qué significa tener hemoglobina baja?\",\n",
    "    \"patient_id\": \"paciente-1\"    # o el id que acabas de probar\n",
    "}\n",
    "print(requests.post(\"http://127.0.0.1:8000/chat\", json=payload).json())\n"
   ]
  },
  {
   "cell_type": "code",
   "execution_count": 20,
   "id": "5aaba202",
   "metadata": {},
   "outputs": [
    {
     "name": "stdout",
     "output_type": "stream",
     "text": [
      "¡Hola! La anemia es un trastorno médico que se caracteriza por una disminución del conteo de glóbulos rojos (eritrocitos) en sangre. Esto puede ocasionar un defectuoso transporte de oxígeno hacia las células, lo que puede provocar sintomatología como fatiga, debilidad, palidez y dolor de cabeza. Hay diferentes tipos de anemia, algunos causados por deficiencias nutricionales (anemia ferropénica) o enfermedades crónicas (anemia renal). ¡Espero haberte ayudado!\n"
     ]
    }
   ],
   "source": [
    "from langchain_ollama import OllamaLLM\n",
    "llm = OllamaLLM(model=\"hf.co/sathvik123/llama3-ChatDoc\")\n",
    "print(llm.invoke(\"Explícame brevemente qué es la anemia.\"))"
   ]
  },
  {
   "cell_type": "code",
   "execution_count": 9,
   "id": "c066f05f",
   "metadata": {},
   "outputs": [
    {
     "name": "stdout",
     "output_type": "stream",
     "text": [
      "Respuesta del modelo:\n",
      "{'answer': ''}\n"
     ]
    }
   ],
   "source": [
    "import requests\n",
    "\n",
    "url = \"http://127.0.0.1:8000/chat\"\n",
    "payload = {\n",
    "    \"user_query\": \"¿Qué significa tener hemoglobina baja?\",\n",
    "    \"patient_id\": \"paciente-1\"\n",
    "}\n",
    "\n",
    "response = requests.post(url, json=payload)\n",
    "print(\"Respuesta del modelo:\")\n",
    "print(response.json())"
   ]
  },
  {
   "cell_type": "code",
   "execution_count": 2,
   "id": "60d57dd4",
   "metadata": {},
   "outputs": [
    {
     "name": "stdout",
     "output_type": "stream",
     "text": [
      "✅ patient_id: paciente-0\n",
      "👤 Nombre: María\n",
      "🧪 Labs entries: 8\n",
      "💊 Meds entries: 0\n"
     ]
    }
   ],
   "source": [
    "from services.fhir_client import FHIRClient\n",
    "fhir = FHIRClient()\n",
    "\n",
    "bundle = fhir.get_patients(count=1)\n",
    "patient_id = bundle[\"entry\"][0][\"resource\"][\"id\"]\n",
    "print(\"✅ patient_id:\", patient_id)\n",
    "\n",
    "# Paciente\n",
    "patient = fhir.get_patient_by_id(patient_id)\n",
    "print(\"👤 Nombre:\", patient[\"name\"][0][\"given\"][0])\n",
    "\n",
    "# Observaciones\n",
    "labs = fhir.get_observations(patient_id)\n",
    "print(\"🧪 Labs entries:\", len(labs.get(\"entry\", [])))\n",
    "\n",
    "# Medicaciones (ya con fallback)\n",
    "meds = fhir.get_medications(patient_id)\n",
    "print(\"💊 Meds entries:\", len(meds.get(\"entry\", [])))"
   ]
  },
  {
   "cell_type": "code",
   "execution_count": 9,
   "id": "8b814d63",
   "metadata": {},
   "outputs": [
    {
     "ename": "KeyError",
     "evalue": "'total'",
     "output_type": "error",
     "traceback": [
      "\u001b[1;31m---------------------------------------------------------------------------\u001b[0m",
      "\u001b[1;31mKeyError\u001b[0m                                  Traceback (most recent call last)",
      "Cell \u001b[1;32mIn[9], line 7\u001b[0m\n\u001b[0;32m      5\u001b[0m \u001b[38;5;66;03m# Ver los mensajes actuales\u001b[39;00m\n\u001b[0;32m      6\u001b[0m msgs \u001b[38;5;241m=\u001b[39m hl7\u001b[38;5;241m.\u001b[39mget_messages()\n\u001b[1;32m----> 7\u001b[0m \u001b[38;5;28mprint\u001b[39m(\u001b[38;5;124m\"\u001b[39m\u001b[38;5;124m📨 Mensajes HL7 recibidos:\u001b[39m\u001b[38;5;124m\"\u001b[39m, msgs[\u001b[38;5;124m\"\u001b[39m\u001b[38;5;124mtotal\u001b[39m\u001b[38;5;124m\"\u001b[39m])\n\u001b[0;32m      8\u001b[0m \u001b[38;5;28;01mfor\u001b[39;00m msg \u001b[38;5;129;01min\u001b[39;00m msgs[\u001b[38;5;124m\"\u001b[39m\u001b[38;5;124mmessages\u001b[39m\u001b[38;5;124m\"\u001b[39m]:\n\u001b[0;32m      9\u001b[0m     \u001b[38;5;28mprint\u001b[39m(msg[\u001b[38;5;124m\"\u001b[39m\u001b[38;5;124mmessage\u001b[39m\u001b[38;5;124m\"\u001b[39m])\n",
      "\u001b[1;31mKeyError\u001b[0m: 'total'"
     ]
    }
   ],
   "source": [
    "from services.hl7_client import HL7Client\n",
    "\n",
    "hl7 = HL7Client()\n",
    "\n",
    "# Ver los mensajes actuales\n",
    "msgs = hl7.get_messages()\n",
    "print(\"📨 Mensajes HL7 recibidos:\", msgs[\"total\"])\n",
    "for msg in msgs[\"messages\"]:\n",
    "    print(msg[\"message\"])\n",
    "\n",
    "# Ver estadísticas\n",
    "stats = hl7.get_stats()\n",
    "print(\"📊 Stats:\", stats)\n",
    "\n",
    "# Ver detalles del stream\n",
    "info = hl7.get_stream_info()\n",
    "print(\"ℹ️ Info del Stream:\", info)"
   ]
  },
  {
   "cell_type": "code",
   "execution_count": 2,
   "id": "2fee7026",
   "metadata": {},
   "outputs": [
    {
     "name": "stderr",
     "output_type": "stream",
     "text": [
      "Failed to send telemetry event ClientStartEvent: capture() takes 1 positional argument but 3 were given\n",
      "Failed to send telemetry event ClientCreateCollectionEvent: capture() takes 1 positional argument but 3 were given\n"
     ]
    },
    {
     "name": "stdout",
     "output_type": "stream",
     "text": [
      "\n",
      "=== DEBUG generate_answer ===\n",
      "Pregunta: ¿Es preocupante un valor de WBC de 7.5?\n",
      "patient_context → 'Paciente Carmen (ID paciente-1). Hemoglobina: 14.0 g/dL. Medicamento actual: (sin medicación registrada).'\n",
      "docs recuperados → 4\n",
      "⤷ primer doc: ing. Ann Cardiothorac Surg. 2013;2:427–430.\n",
      " 7 . Gaudino M, Benedetto U, Fremes S, et al. Radial-artery or saphenous-\n",
      "ve …\n",
      "=============================\n",
      "\n",
      "\n",
      "🧪 PROMPT COMPLETO QUE RECIBE EL MODELO:\n",
      "\n",
      "System: Eres un profesional médico.\n",
      "                Primero revisa la ficha clínica del paciente.\n",
      "                Luego usa los documentos recuperados para justificar tu respuesta.\n",
      "                === Información del paciente ===\n",
      "                Paciente Carmen (ID paciente-1). Hemoglobina: 14.0 g/dL. Medicamento actual: (sin medicación registrada).\n",
      "                === Documentos de referencia ===\n",
      "                ing. Ann Cardiothorac Surg. 2013;2:427–430.\n",
      " 7 . Gaudino M, Benedetto U, Fremes S, et al. Radial-artery or saphenous-\n",
      "vein grafts in coronary-artery bypass surgery. N Engl J Med. 2018;  \n",
      "378:2069–2077 .\n",
      " 8. Fihn SD, Blankenship JC, Alexander KP, et al. 2014 ACC/AHA/AATS/\n",
      "PCNA/SCAI/STS focused update of the guideline for the diagnosis and \n",
      "management of patients with stable ischemic heart disease: a report of the \n",
      "American College of Cardiology/American Heart Association Task Force \n",
      "on Practice Guidelines, and the American Association for Thoracic Surgery, \n",
      "Preventive Cardiovascular Nurses Association, Society for Cardiovascular \n",
      "Angiography and Interventions, and Society of Thoracic Surgeons. Circula-\n",
      "tion. 2014;130:1749–1767 .\n",
      " 9. Hammermeister KE, DeRouen TA, Dodge HT. Variables predictive of sur-\n",
      "vival in patients with coronary disease. Selection by univariate and multi-\n",
      "variate analyses from the clinical, electrocardiographic, exercise, arte-\n",
      "\n",
      "---\n",
      "\n",
      "ing. Ann Cardiothorac Surg. 2013;2:427–430.\n",
      " 7 . Gaudino M, Benedetto U, Fremes S, et al. Radial-artery or saphenous-\n",
      "vein grafts in coronary-artery bypass surgery. N Engl J Med. 2018;  \n",
      "378:2069–2077 .\n",
      " 8. Fihn SD, Blankenship JC, Alexander KP, et al. 2014 ACC/AHA/AATS/\n",
      "PCNA/SCAI/STS focused update of the guideline for the diagnosis and \n",
      "management of patients with stable ischemic heart disease: a report of the \n",
      "American College of Cardiology/American Heart Association Task Force \n",
      "on Practice Guidelines, and the American Association for Thoracic Surgery, \n",
      "Preventive Cardiovascular Nurses Association, Society for Cardiovascular \n",
      "Angiography and Interventions, and Society of Thoracic Surgeons. Circula-\n",
      "tion. 2014;130:1749–1767 .\n",
      " 9. Hammermeister KE, DeRouen TA, Dodge HT. Variables predictive of sur-\n",
      "vival in patients with coronary disease. Selection by univariate and multi-\n",
      "variate analyses from the clinical, electrocardiographic, exercise, arte-\n",
      "\n",
      "---\n",
      "\n",
      "ing. Ann Cardiothorac Surg. 2013;2:427–430.\n",
      " 7 . Gaudino M, Benedetto U, Fremes S, et al. Radial-artery or saphenous-\n",
      "vein grafts in coronary-artery bypass surgery. N Engl J Med. 2018;  \n",
      "378:2069–2077 .\n",
      " 8. Fihn SD, Blankenship JC, Alexander KP, et al. 2014 ACC/AHA/AATS/\n",
      "PCNA/SCAI/STS focused update of the guideline for the diagnosis and \n",
      "management of patients with stable ischemic heart disease: a report of the \n",
      "American College of Cardiology/American Heart Association Task Force \n",
      "on Practice Guidelines, and the American Association for Thoracic Surgery, \n",
      "Preventive Cardiovascular Nurses Association, Society for Cardiovascular \n",
      "Angiography and Interventions, and Society of Thoracic Surgeons. Circula-\n",
      "tion. 2014;130:1749–1767 .\n",
      " 9. Hammermeister KE, DeRouen TA, Dodge HT. Variables predictive of sur-\n",
      "vival in patients with coronary disease. Selection by univariate and multi-\n",
      "variate analyses from the clinical, electrocardiographic, exercise, arte-\n",
      "Human: ¿Es preocupante un valor de WBC de 7.5?\n",
      "\n",
      "🔚 FIN DEL PROMPT\n",
      "\n"
     ]
    },
    {
     "ename": "KeyError",
     "evalue": "\"Input to ChatPromptTemplate is missing variables {'hl7_context'}.  Expected: ['chat_history', 'context', 'hl7_context', 'input', 'patient_context'] Received: ['input', 'patient_context', 'chat_history', 'context']\\nNote: if you intended {hl7_context} to be part of the string and not a variable, please escape it with double curly braces like: '{{hl7_context}}'.\\nFor troubleshooting, visit: https://python.langchain.com/docs/troubleshooting/errors/INVALID_PROMPT_INPUT \"",
     "output_type": "error",
     "traceback": [
      "\u001b[1;31m---------------------------------------------------------------------------\u001b[0m",
      "\u001b[1;31mKeyError\u001b[0m                                  Traceback (most recent call last)",
      "Cell \u001b[1;32mIn[2], line 4\u001b[0m\n\u001b[0;32m      1\u001b[0m \u001b[38;5;28;01mfrom\u001b[39;00m \u001b[38;5;21;01mRAG\u001b[39;00m\u001b[38;5;21;01m.\u001b[39;00m\u001b[38;5;21;01mrag\u001b[39;00m \u001b[38;5;28;01mimport\u001b[39;00m RAG_chatbot\n\u001b[0;32m      2\u001b[0m bot \u001b[38;5;241m=\u001b[39m RAG_chatbot()\n\u001b[0;32m      3\u001b[0m \u001b[38;5;28mprint\u001b[39m(\n\u001b[1;32m----> 4\u001b[0m     bot\u001b[38;5;241m.\u001b[39mapp\u001b[38;5;241m.\u001b[39minvoke(\n\u001b[0;32m      5\u001b[0m         {\n\u001b[0;32m      6\u001b[0m             \u001b[38;5;124m\"\u001b[39m\u001b[38;5;124mquestion\u001b[39m\u001b[38;5;124m\"\u001b[39m: \u001b[38;5;124m\"\u001b[39m\u001b[38;5;124m¿Es preocupante un valor de WBC de 7.5?\u001b[39m\u001b[38;5;124m\"\u001b[39m,\n\u001b[0;32m      7\u001b[0m             \u001b[38;5;124m\"\u001b[39m\u001b[38;5;124mpatient_id\u001b[39m\u001b[38;5;124m\"\u001b[39m: \u001b[38;5;124m\"\u001b[39m\u001b[38;5;124mpaciente-1\u001b[39m\u001b[38;5;124m\"\u001b[39m\n\u001b[0;32m      8\u001b[0m         }\n\u001b[0;32m      9\u001b[0m     )[\u001b[38;5;124m\"\u001b[39m\u001b[38;5;124mllm_output\u001b[39m\u001b[38;5;124m\"\u001b[39m]\n\u001b[0;32m     10\u001b[0m )\n",
      "File \u001b[1;32mc:\\Users\\Usuario\\anaconda3\\Lib\\site-packages\\langgraph\\pregel\\__init__.py:2852\u001b[0m, in \u001b[0;36mPregel.invoke\u001b[1;34m(self, input, config, stream_mode, print_mode, output_keys, interrupt_before, interrupt_after, **kwargs)\u001b[0m\n\u001b[0;32m   2849\u001b[0m chunks: \u001b[38;5;28mlist\u001b[39m[\u001b[38;5;28mdict\u001b[39m[\u001b[38;5;28mstr\u001b[39m, Any] \u001b[38;5;241m|\u001b[39m Any] \u001b[38;5;241m=\u001b[39m []\n\u001b[0;32m   2850\u001b[0m interrupts: \u001b[38;5;28mlist\u001b[39m[Interrupt] \u001b[38;5;241m=\u001b[39m []\n\u001b[1;32m-> 2852\u001b[0m \u001b[38;5;28;01mfor\u001b[39;00m chunk \u001b[38;5;129;01min\u001b[39;00m \u001b[38;5;28mself\u001b[39m\u001b[38;5;241m.\u001b[39mstream(\n\u001b[0;32m   2853\u001b[0m     \u001b[38;5;28minput\u001b[39m,\n\u001b[0;32m   2854\u001b[0m     config,\n\u001b[0;32m   2855\u001b[0m     stream_mode\u001b[38;5;241m=\u001b[39m[\u001b[38;5;124m\"\u001b[39m\u001b[38;5;124mupdates\u001b[39m\u001b[38;5;124m\"\u001b[39m, \u001b[38;5;124m\"\u001b[39m\u001b[38;5;124mvalues\u001b[39m\u001b[38;5;124m\"\u001b[39m]\n\u001b[0;32m   2856\u001b[0m     \u001b[38;5;28;01mif\u001b[39;00m stream_mode \u001b[38;5;241m==\u001b[39m \u001b[38;5;124m\"\u001b[39m\u001b[38;5;124mvalues\u001b[39m\u001b[38;5;124m\"\u001b[39m\n\u001b[0;32m   2857\u001b[0m     \u001b[38;5;28;01melse\u001b[39;00m stream_mode,\n\u001b[0;32m   2858\u001b[0m     print_mode\u001b[38;5;241m=\u001b[39mprint_mode,\n\u001b[0;32m   2859\u001b[0m     output_keys\u001b[38;5;241m=\u001b[39moutput_keys,\n\u001b[0;32m   2860\u001b[0m     interrupt_before\u001b[38;5;241m=\u001b[39minterrupt_before,\n\u001b[0;32m   2861\u001b[0m     interrupt_after\u001b[38;5;241m=\u001b[39minterrupt_after,\n\u001b[0;32m   2862\u001b[0m     \u001b[38;5;241m*\u001b[39m\u001b[38;5;241m*\u001b[39mkwargs,\n\u001b[0;32m   2863\u001b[0m ):\n\u001b[0;32m   2864\u001b[0m     \u001b[38;5;28;01mif\u001b[39;00m stream_mode \u001b[38;5;241m==\u001b[39m \u001b[38;5;124m\"\u001b[39m\u001b[38;5;124mvalues\u001b[39m\u001b[38;5;124m\"\u001b[39m:\n\u001b[0;32m   2865\u001b[0m         \u001b[38;5;28;01mif\u001b[39;00m \u001b[38;5;28mlen\u001b[39m(chunk) \u001b[38;5;241m==\u001b[39m \u001b[38;5;241m2\u001b[39m:\n",
      "File \u001b[1;32mc:\\Users\\Usuario\\anaconda3\\Lib\\site-packages\\langgraph\\pregel\\__init__.py:2542\u001b[0m, in \u001b[0;36mPregel.stream\u001b[1;34m(self, input, config, stream_mode, print_mode, output_keys, interrupt_before, interrupt_after, checkpoint_during, debug, subgraphs)\u001b[0m\n\u001b[0;32m   2540\u001b[0m \u001b[38;5;28;01mfor\u001b[39;00m task \u001b[38;5;129;01min\u001b[39;00m loop\u001b[38;5;241m.\u001b[39mmatch_cached_writes():\n\u001b[0;32m   2541\u001b[0m     loop\u001b[38;5;241m.\u001b[39moutput_writes(task\u001b[38;5;241m.\u001b[39mid, task\u001b[38;5;241m.\u001b[39mwrites, cached\u001b[38;5;241m=\u001b[39m\u001b[38;5;28;01mTrue\u001b[39;00m)\n\u001b[1;32m-> 2542\u001b[0m \u001b[38;5;28;01mfor\u001b[39;00m _ \u001b[38;5;129;01min\u001b[39;00m runner\u001b[38;5;241m.\u001b[39mtick(\n\u001b[0;32m   2543\u001b[0m     [t \u001b[38;5;28;01mfor\u001b[39;00m t \u001b[38;5;129;01min\u001b[39;00m loop\u001b[38;5;241m.\u001b[39mtasks\u001b[38;5;241m.\u001b[39mvalues() \u001b[38;5;28;01mif\u001b[39;00m \u001b[38;5;129;01mnot\u001b[39;00m t\u001b[38;5;241m.\u001b[39mwrites],\n\u001b[0;32m   2544\u001b[0m     timeout\u001b[38;5;241m=\u001b[39m\u001b[38;5;28mself\u001b[39m\u001b[38;5;241m.\u001b[39mstep_timeout,\n\u001b[0;32m   2545\u001b[0m     get_waiter\u001b[38;5;241m=\u001b[39mget_waiter,\n\u001b[0;32m   2546\u001b[0m     schedule_task\u001b[38;5;241m=\u001b[39mloop\u001b[38;5;241m.\u001b[39maccept_push,\n\u001b[0;32m   2547\u001b[0m ):\n\u001b[0;32m   2548\u001b[0m     \u001b[38;5;66;03m# emit output\u001b[39;00m\n\u001b[0;32m   2549\u001b[0m     \u001b[38;5;28;01myield from\u001b[39;00m _output(\n\u001b[0;32m   2550\u001b[0m         stream_mode, print_mode, subgraphs, stream\u001b[38;5;241m.\u001b[39mget, queue\u001b[38;5;241m.\u001b[39mEmpty\n\u001b[0;32m   2551\u001b[0m     )\n\u001b[0;32m   2552\u001b[0m loop\u001b[38;5;241m.\u001b[39mafter_tick()\n",
      "File \u001b[1;32mc:\\Users\\Usuario\\anaconda3\\Lib\\site-packages\\langgraph\\pregel\\runner.py:162\u001b[0m, in \u001b[0;36mPregelRunner.tick\u001b[1;34m(self, tasks, reraise, timeout, retry_policy, get_waiter, schedule_task)\u001b[0m\n\u001b[0;32m    160\u001b[0m t \u001b[38;5;241m=\u001b[39m tasks[\u001b[38;5;241m0\u001b[39m]\n\u001b[0;32m    161\u001b[0m \u001b[38;5;28;01mtry\u001b[39;00m:\n\u001b[1;32m--> 162\u001b[0m     run_with_retry(\n\u001b[0;32m    163\u001b[0m         t,\n\u001b[0;32m    164\u001b[0m         retry_policy,\n\u001b[0;32m    165\u001b[0m         configurable\u001b[38;5;241m=\u001b[39m{\n\u001b[0;32m    166\u001b[0m             CONFIG_KEY_CALL: partial(\n\u001b[0;32m    167\u001b[0m                 _call,\n\u001b[0;32m    168\u001b[0m                 weakref\u001b[38;5;241m.\u001b[39mref(t),\n\u001b[0;32m    169\u001b[0m                 retry_policy\u001b[38;5;241m=\u001b[39mretry_policy,\n\u001b[0;32m    170\u001b[0m                 futures\u001b[38;5;241m=\u001b[39mweakref\u001b[38;5;241m.\u001b[39mref(futures),\n\u001b[0;32m    171\u001b[0m                 schedule_task\u001b[38;5;241m=\u001b[39mschedule_task,\n\u001b[0;32m    172\u001b[0m                 submit\u001b[38;5;241m=\u001b[39m\u001b[38;5;28mself\u001b[39m\u001b[38;5;241m.\u001b[39msubmit,\n\u001b[0;32m    173\u001b[0m             ),\n\u001b[0;32m    174\u001b[0m         },\n\u001b[0;32m    175\u001b[0m     )\n\u001b[0;32m    176\u001b[0m     \u001b[38;5;28mself\u001b[39m\u001b[38;5;241m.\u001b[39mcommit(t, \u001b[38;5;28;01mNone\u001b[39;00m)\n\u001b[0;32m    177\u001b[0m \u001b[38;5;28;01mexcept\u001b[39;00m \u001b[38;5;167;01mException\u001b[39;00m \u001b[38;5;28;01mas\u001b[39;00m exc:\n",
      "File \u001b[1;32mc:\\Users\\Usuario\\anaconda3\\Lib\\site-packages\\langgraph\\pregel\\retry.py:42\u001b[0m, in \u001b[0;36mrun_with_retry\u001b[1;34m(task, retry_policy, configurable)\u001b[0m\n\u001b[0;32m     40\u001b[0m     task\u001b[38;5;241m.\u001b[39mwrites\u001b[38;5;241m.\u001b[39mclear()\n\u001b[0;32m     41\u001b[0m     \u001b[38;5;66;03m# run the task\u001b[39;00m\n\u001b[1;32m---> 42\u001b[0m     \u001b[38;5;28;01mreturn\u001b[39;00m task\u001b[38;5;241m.\u001b[39mproc\u001b[38;5;241m.\u001b[39minvoke(task\u001b[38;5;241m.\u001b[39minput, config)\n\u001b[0;32m     43\u001b[0m \u001b[38;5;28;01mexcept\u001b[39;00m ParentCommand \u001b[38;5;28;01mas\u001b[39;00m exc:\n\u001b[0;32m     44\u001b[0m     ns: \u001b[38;5;28mstr\u001b[39m \u001b[38;5;241m=\u001b[39m config[CONF][CONFIG_KEY_CHECKPOINT_NS]\n",
      "File \u001b[1;32mc:\\Users\\Usuario\\anaconda3\\Lib\\site-packages\\langgraph\\utils\\runnable.py:623\u001b[0m, in \u001b[0;36mRunnableSeq.invoke\u001b[1;34m(self, input, config, **kwargs)\u001b[0m\n\u001b[0;32m    621\u001b[0m     \u001b[38;5;66;03m# run in context\u001b[39;00m\n\u001b[0;32m    622\u001b[0m     \u001b[38;5;28;01mwith\u001b[39;00m set_config_context(config, run) \u001b[38;5;28;01mas\u001b[39;00m context:\n\u001b[1;32m--> 623\u001b[0m         \u001b[38;5;28minput\u001b[39m \u001b[38;5;241m=\u001b[39m context\u001b[38;5;241m.\u001b[39mrun(step\u001b[38;5;241m.\u001b[39minvoke, \u001b[38;5;28minput\u001b[39m, config, \u001b[38;5;241m*\u001b[39m\u001b[38;5;241m*\u001b[39mkwargs)\n\u001b[0;32m    624\u001b[0m \u001b[38;5;28;01melse\u001b[39;00m:\n\u001b[0;32m    625\u001b[0m     \u001b[38;5;28minput\u001b[39m \u001b[38;5;241m=\u001b[39m step\u001b[38;5;241m.\u001b[39minvoke(\u001b[38;5;28minput\u001b[39m, config)\n",
      "File \u001b[1;32mc:\\Users\\Usuario\\anaconda3\\Lib\\site-packages\\langgraph\\utils\\runnable.py:377\u001b[0m, in \u001b[0;36mRunnableCallable.invoke\u001b[1;34m(self, input, config, **kwargs)\u001b[0m\n\u001b[0;32m    375\u001b[0m         run_manager\u001b[38;5;241m.\u001b[39mon_chain_end(ret)\n\u001b[0;32m    376\u001b[0m \u001b[38;5;28;01melse\u001b[39;00m:\n\u001b[1;32m--> 377\u001b[0m     ret \u001b[38;5;241m=\u001b[39m \u001b[38;5;28mself\u001b[39m\u001b[38;5;241m.\u001b[39mfunc(\u001b[38;5;241m*\u001b[39margs, \u001b[38;5;241m*\u001b[39m\u001b[38;5;241m*\u001b[39mkwargs)\n\u001b[0;32m    378\u001b[0m \u001b[38;5;28;01mif\u001b[39;00m \u001b[38;5;28mself\u001b[39m\u001b[38;5;241m.\u001b[39mrecurse \u001b[38;5;129;01mand\u001b[39;00m \u001b[38;5;28misinstance\u001b[39m(ret, Runnable):\n\u001b[0;32m    379\u001b[0m     \u001b[38;5;28;01mreturn\u001b[39;00m ret\u001b[38;5;241m.\u001b[39minvoke(\u001b[38;5;28minput\u001b[39m, config)\n",
      "File \u001b[1;32mc:\\Users\\Usuario\\Desktop\\Agentic-RAG-main\\ClinicalAssistant\\RAG\\rag.py:338\u001b[0m, in \u001b[0;36mRAG_chatbot.generate_answer\u001b[1;34m(self, state)\u001b[0m\n\u001b[0;32m    335\u001b[0m \u001b[38;5;28mprint\u001b[39m(prompt\u001b[38;5;241m.\u001b[39mto_string())\n\u001b[0;32m    336\u001b[0m \u001b[38;5;28mprint\u001b[39m(\u001b[38;5;124m\"\u001b[39m\u001b[38;5;130;01m\\n\u001b[39;00m\u001b[38;5;124m🔚 FIN DEL PROMPT\u001b[39m\u001b[38;5;130;01m\\n\u001b[39;00m\u001b[38;5;124m\"\u001b[39m)\n\u001b[1;32m--> 338\u001b[0m result \u001b[38;5;241m=\u001b[39m \u001b[38;5;28mself\u001b[39m\u001b[38;5;241m.\u001b[39mchatbot\u001b[38;5;241m.\u001b[39minvoke(\n\u001b[0;32m    339\u001b[0m             {\u001b[38;5;124m\"\u001b[39m\u001b[38;5;124minput\u001b[39m\u001b[38;5;124m\"\u001b[39m: question,\n\u001b[0;32m    340\u001b[0m              \u001b[38;5;124m\"\u001b[39m\u001b[38;5;124mpatient_context\u001b[39m\u001b[38;5;124m\"\u001b[39m:  state\u001b[38;5;241m.\u001b[39mpatient_context},\n\u001b[0;32m    341\u001b[0m             config\u001b[38;5;241m=\u001b[39m{\u001b[38;5;124m\"\u001b[39m\u001b[38;5;124mconfigurable\u001b[39m\u001b[38;5;124m\"\u001b[39m: {\u001b[38;5;124m\"\u001b[39m\u001b[38;5;124msession_id\u001b[39m\u001b[38;5;124m\"\u001b[39m: \u001b[38;5;124m\"\u001b[39m\u001b[38;5;124m01\u001b[39m\u001b[38;5;124m\"\u001b[39m}\n\u001b[0;32m    342\u001b[0m             }, \n\u001b[0;32m    343\u001b[0m         )[\u001b[38;5;124m\"\u001b[39m\u001b[38;5;124manswer\u001b[39m\u001b[38;5;124m\"\u001b[39m]\n\u001b[0;32m    345\u001b[0m \u001b[38;5;66;03m# 🔍 DEBUG: resultado crudo del modelo\u001b[39;00m\n\u001b[0;32m    346\u001b[0m \u001b[38;5;28mprint\u001b[39m(\u001b[38;5;124m\"\u001b[39m\u001b[38;5;124m=== LLM raw output ===\u001b[39m\u001b[38;5;124m\"\u001b[39m, \u001b[38;5;28mrepr\u001b[39m(result), \u001b[38;5;124m\"\u001b[39m\u001b[38;5;130;01m\\n\u001b[39;00m\u001b[38;5;124m\"\u001b[39m)\n",
      "File \u001b[1;32mc:\\Users\\Usuario\\anaconda3\\Lib\\site-packages\\langchain_core\\runnables\\base.py:5430\u001b[0m, in \u001b[0;36mRunnableBindingBase.invoke\u001b[1;34m(self, input, config, **kwargs)\u001b[0m\n\u001b[0;32m   5423\u001b[0m \u001b[38;5;129m@override\u001b[39m\n\u001b[0;32m   5424\u001b[0m \u001b[38;5;28;01mdef\u001b[39;00m \u001b[38;5;21minvoke\u001b[39m(\n\u001b[0;32m   5425\u001b[0m     \u001b[38;5;28mself\u001b[39m,\n\u001b[1;32m   (...)\u001b[0m\n\u001b[0;32m   5428\u001b[0m     \u001b[38;5;241m*\u001b[39m\u001b[38;5;241m*\u001b[39mkwargs: Optional[Any],\n\u001b[0;32m   5429\u001b[0m ) \u001b[38;5;241m-\u001b[39m\u001b[38;5;241m>\u001b[39m Output:\n\u001b[1;32m-> 5430\u001b[0m     \u001b[38;5;28;01mreturn\u001b[39;00m \u001b[38;5;28mself\u001b[39m\u001b[38;5;241m.\u001b[39mbound\u001b[38;5;241m.\u001b[39minvoke(\n\u001b[0;32m   5431\u001b[0m         \u001b[38;5;28minput\u001b[39m,\n\u001b[0;32m   5432\u001b[0m         \u001b[38;5;28mself\u001b[39m\u001b[38;5;241m.\u001b[39m_merge_configs(config),\n\u001b[0;32m   5433\u001b[0m         \u001b[38;5;241m*\u001b[39m\u001b[38;5;241m*\u001b[39m{\u001b[38;5;241m*\u001b[39m\u001b[38;5;241m*\u001b[39m\u001b[38;5;28mself\u001b[39m\u001b[38;5;241m.\u001b[39mkwargs, \u001b[38;5;241m*\u001b[39m\u001b[38;5;241m*\u001b[39mkwargs},\n\u001b[0;32m   5434\u001b[0m     )\n",
      "File \u001b[1;32mc:\\Users\\Usuario\\anaconda3\\Lib\\site-packages\\langchain_core\\runnables\\base.py:5430\u001b[0m, in \u001b[0;36mRunnableBindingBase.invoke\u001b[1;34m(self, input, config, **kwargs)\u001b[0m\n\u001b[0;32m   5423\u001b[0m \u001b[38;5;129m@override\u001b[39m\n\u001b[0;32m   5424\u001b[0m \u001b[38;5;28;01mdef\u001b[39;00m \u001b[38;5;21minvoke\u001b[39m(\n\u001b[0;32m   5425\u001b[0m     \u001b[38;5;28mself\u001b[39m,\n\u001b[1;32m   (...)\u001b[0m\n\u001b[0;32m   5428\u001b[0m     \u001b[38;5;241m*\u001b[39m\u001b[38;5;241m*\u001b[39mkwargs: Optional[Any],\n\u001b[0;32m   5429\u001b[0m ) \u001b[38;5;241m-\u001b[39m\u001b[38;5;241m>\u001b[39m Output:\n\u001b[1;32m-> 5430\u001b[0m     \u001b[38;5;28;01mreturn\u001b[39;00m \u001b[38;5;28mself\u001b[39m\u001b[38;5;241m.\u001b[39mbound\u001b[38;5;241m.\u001b[39minvoke(\n\u001b[0;32m   5431\u001b[0m         \u001b[38;5;28minput\u001b[39m,\n\u001b[0;32m   5432\u001b[0m         \u001b[38;5;28mself\u001b[39m\u001b[38;5;241m.\u001b[39m_merge_configs(config),\n\u001b[0;32m   5433\u001b[0m         \u001b[38;5;241m*\u001b[39m\u001b[38;5;241m*\u001b[39m{\u001b[38;5;241m*\u001b[39m\u001b[38;5;241m*\u001b[39m\u001b[38;5;28mself\u001b[39m\u001b[38;5;241m.\u001b[39mkwargs, \u001b[38;5;241m*\u001b[39m\u001b[38;5;241m*\u001b[39mkwargs},\n\u001b[0;32m   5434\u001b[0m     )\n",
      "File \u001b[1;32mc:\\Users\\Usuario\\anaconda3\\Lib\\site-packages\\langchain_core\\runnables\\base.py:3047\u001b[0m, in \u001b[0;36mRunnableSequence.invoke\u001b[1;34m(self, input, config, **kwargs)\u001b[0m\n\u001b[0;32m   3045\u001b[0m                 input_ \u001b[38;5;241m=\u001b[39m context\u001b[38;5;241m.\u001b[39mrun(step\u001b[38;5;241m.\u001b[39minvoke, input_, config, \u001b[38;5;241m*\u001b[39m\u001b[38;5;241m*\u001b[39mkwargs)\n\u001b[0;32m   3046\u001b[0m             \u001b[38;5;28;01melse\u001b[39;00m:\n\u001b[1;32m-> 3047\u001b[0m                 input_ \u001b[38;5;241m=\u001b[39m context\u001b[38;5;241m.\u001b[39mrun(step\u001b[38;5;241m.\u001b[39minvoke, input_, config)\n\u001b[0;32m   3048\u001b[0m \u001b[38;5;66;03m# finish the root run\u001b[39;00m\n\u001b[0;32m   3049\u001b[0m \u001b[38;5;28;01mexcept\u001b[39;00m \u001b[38;5;167;01mBaseException\u001b[39;00m \u001b[38;5;28;01mas\u001b[39;00m e:\n",
      "File \u001b[1;32mc:\\Users\\Usuario\\anaconda3\\Lib\\site-packages\\langchain_core\\runnables\\base.py:5430\u001b[0m, in \u001b[0;36mRunnableBindingBase.invoke\u001b[1;34m(self, input, config, **kwargs)\u001b[0m\n\u001b[0;32m   5423\u001b[0m \u001b[38;5;129m@override\u001b[39m\n\u001b[0;32m   5424\u001b[0m \u001b[38;5;28;01mdef\u001b[39;00m \u001b[38;5;21minvoke\u001b[39m(\n\u001b[0;32m   5425\u001b[0m     \u001b[38;5;28mself\u001b[39m,\n\u001b[1;32m   (...)\u001b[0m\n\u001b[0;32m   5428\u001b[0m     \u001b[38;5;241m*\u001b[39m\u001b[38;5;241m*\u001b[39mkwargs: Optional[Any],\n\u001b[0;32m   5429\u001b[0m ) \u001b[38;5;241m-\u001b[39m\u001b[38;5;241m>\u001b[39m Output:\n\u001b[1;32m-> 5430\u001b[0m     \u001b[38;5;28;01mreturn\u001b[39;00m \u001b[38;5;28mself\u001b[39m\u001b[38;5;241m.\u001b[39mbound\u001b[38;5;241m.\u001b[39minvoke(\n\u001b[0;32m   5431\u001b[0m         \u001b[38;5;28minput\u001b[39m,\n\u001b[0;32m   5432\u001b[0m         \u001b[38;5;28mself\u001b[39m\u001b[38;5;241m.\u001b[39m_merge_configs(config),\n\u001b[0;32m   5433\u001b[0m         \u001b[38;5;241m*\u001b[39m\u001b[38;5;241m*\u001b[39m{\u001b[38;5;241m*\u001b[39m\u001b[38;5;241m*\u001b[39m\u001b[38;5;28mself\u001b[39m\u001b[38;5;241m.\u001b[39mkwargs, \u001b[38;5;241m*\u001b[39m\u001b[38;5;241m*\u001b[39mkwargs},\n\u001b[0;32m   5434\u001b[0m     )\n",
      "File \u001b[1;32mc:\\Users\\Usuario\\anaconda3\\Lib\\site-packages\\langchain_core\\runnables\\base.py:4771\u001b[0m, in \u001b[0;36mRunnableLambda.invoke\u001b[1;34m(self, input, config, **kwargs)\u001b[0m\n\u001b[0;32m   4757\u001b[0m \u001b[38;5;250m\u001b[39m\u001b[38;5;124;03m\"\"\"Invoke this Runnable synchronously.\u001b[39;00m\n\u001b[0;32m   4758\u001b[0m \n\u001b[0;32m   4759\u001b[0m \u001b[38;5;124;03mArgs:\u001b[39;00m\n\u001b[1;32m   (...)\u001b[0m\n\u001b[0;32m   4768\u001b[0m \u001b[38;5;124;03m    TypeError: If the Runnable is a coroutine function.\u001b[39;00m\n\u001b[0;32m   4769\u001b[0m \u001b[38;5;124;03m\"\"\"\u001b[39;00m\n\u001b[0;32m   4770\u001b[0m \u001b[38;5;28;01mif\u001b[39;00m \u001b[38;5;28mhasattr\u001b[39m(\u001b[38;5;28mself\u001b[39m, \u001b[38;5;124m\"\u001b[39m\u001b[38;5;124mfunc\u001b[39m\u001b[38;5;124m\"\u001b[39m):\n\u001b[1;32m-> 4771\u001b[0m     \u001b[38;5;28;01mreturn\u001b[39;00m \u001b[38;5;28mself\u001b[39m\u001b[38;5;241m.\u001b[39m_call_with_config(\n\u001b[0;32m   4772\u001b[0m         \u001b[38;5;28mself\u001b[39m\u001b[38;5;241m.\u001b[39m_invoke,\n\u001b[0;32m   4773\u001b[0m         \u001b[38;5;28minput\u001b[39m,\n\u001b[0;32m   4774\u001b[0m         ensure_config(config),\n\u001b[0;32m   4775\u001b[0m         \u001b[38;5;241m*\u001b[39m\u001b[38;5;241m*\u001b[39mkwargs,\n\u001b[0;32m   4776\u001b[0m     )\n\u001b[0;32m   4777\u001b[0m msg \u001b[38;5;241m=\u001b[39m \u001b[38;5;124m\"\u001b[39m\u001b[38;5;124mCannot invoke a coroutine function synchronously.Use `ainvoke` instead.\u001b[39m\u001b[38;5;124m\"\u001b[39m\n\u001b[0;32m   4778\u001b[0m \u001b[38;5;28;01mraise\u001b[39;00m \u001b[38;5;167;01mTypeError\u001b[39;00m(msg)\n",
      "File \u001b[1;32mc:\\Users\\Usuario\\anaconda3\\Lib\\site-packages\\langchain_core\\runnables\\base.py:1940\u001b[0m, in \u001b[0;36mRunnable._call_with_config\u001b[1;34m(self, func, input_, config, run_type, serialized, **kwargs)\u001b[0m\n\u001b[0;32m   1936\u001b[0m     child_config \u001b[38;5;241m=\u001b[39m patch_config(config, callbacks\u001b[38;5;241m=\u001b[39mrun_manager\u001b[38;5;241m.\u001b[39mget_child())\n\u001b[0;32m   1937\u001b[0m     \u001b[38;5;28;01mwith\u001b[39;00m set_config_context(child_config) \u001b[38;5;28;01mas\u001b[39;00m context:\n\u001b[0;32m   1938\u001b[0m         output \u001b[38;5;241m=\u001b[39m cast(\n\u001b[0;32m   1939\u001b[0m             \u001b[38;5;124m\"\u001b[39m\u001b[38;5;124mOutput\u001b[39m\u001b[38;5;124m\"\u001b[39m,\n\u001b[1;32m-> 1940\u001b[0m             context\u001b[38;5;241m.\u001b[39mrun(\n\u001b[0;32m   1941\u001b[0m                 call_func_with_variable_args,  \u001b[38;5;66;03m# type: ignore[arg-type]\u001b[39;00m\n\u001b[0;32m   1942\u001b[0m                 func,\n\u001b[0;32m   1943\u001b[0m                 input_,\n\u001b[0;32m   1944\u001b[0m                 config,\n\u001b[0;32m   1945\u001b[0m                 run_manager,\n\u001b[0;32m   1946\u001b[0m                 \u001b[38;5;241m*\u001b[39m\u001b[38;5;241m*\u001b[39mkwargs,\n\u001b[0;32m   1947\u001b[0m             ),\n\u001b[0;32m   1948\u001b[0m         )\n\u001b[0;32m   1949\u001b[0m \u001b[38;5;28;01mexcept\u001b[39;00m \u001b[38;5;167;01mBaseException\u001b[39;00m \u001b[38;5;28;01mas\u001b[39;00m e:\n\u001b[0;32m   1950\u001b[0m     run_manager\u001b[38;5;241m.\u001b[39mon_chain_error(e)\n",
      "File \u001b[1;32mc:\\Users\\Usuario\\anaconda3\\Lib\\site-packages\\langchain_core\\runnables\\config.py:428\u001b[0m, in \u001b[0;36mcall_func_with_variable_args\u001b[1;34m(func, input, config, run_manager, **kwargs)\u001b[0m\n\u001b[0;32m    426\u001b[0m \u001b[38;5;28;01mif\u001b[39;00m run_manager \u001b[38;5;129;01mis\u001b[39;00m \u001b[38;5;129;01mnot\u001b[39;00m \u001b[38;5;28;01mNone\u001b[39;00m \u001b[38;5;129;01mand\u001b[39;00m accepts_run_manager(func):\n\u001b[0;32m    427\u001b[0m     kwargs[\u001b[38;5;124m\"\u001b[39m\u001b[38;5;124mrun_manager\u001b[39m\u001b[38;5;124m\"\u001b[39m] \u001b[38;5;241m=\u001b[39m run_manager\n\u001b[1;32m--> 428\u001b[0m \u001b[38;5;28;01mreturn\u001b[39;00m func(\u001b[38;5;28minput\u001b[39m, \u001b[38;5;241m*\u001b[39m\u001b[38;5;241m*\u001b[39mkwargs)\n",
      "File \u001b[1;32mc:\\Users\\Usuario\\anaconda3\\Lib\\site-packages\\langchain_core\\runnables\\base.py:4640\u001b[0m, in \u001b[0;36mRunnableLambda._invoke\u001b[1;34m(self, input_, run_manager, config, **kwargs)\u001b[0m\n\u001b[0;32m   4636\u001b[0m         msg \u001b[38;5;241m=\u001b[39m (\n\u001b[0;32m   4637\u001b[0m             \u001b[38;5;124mf\u001b[39m\u001b[38;5;124m\"\u001b[39m\u001b[38;5;124mRecursion limit reached when invoking \u001b[39m\u001b[38;5;132;01m{\u001b[39;00m\u001b[38;5;28mself\u001b[39m\u001b[38;5;132;01m}\u001b[39;00m\u001b[38;5;124m with input \u001b[39m\u001b[38;5;132;01m{\u001b[39;00minput_\u001b[38;5;132;01m}\u001b[39;00m\u001b[38;5;124m.\u001b[39m\u001b[38;5;124m\"\u001b[39m\n\u001b[0;32m   4638\u001b[0m         )\n\u001b[0;32m   4639\u001b[0m         \u001b[38;5;28;01mraise\u001b[39;00m \u001b[38;5;167;01mRecursionError\u001b[39;00m(msg)\n\u001b[1;32m-> 4640\u001b[0m     output \u001b[38;5;241m=\u001b[39m output\u001b[38;5;241m.\u001b[39minvoke(\n\u001b[0;32m   4641\u001b[0m         input_,\n\u001b[0;32m   4642\u001b[0m         patch_config(\n\u001b[0;32m   4643\u001b[0m             config,\n\u001b[0;32m   4644\u001b[0m             callbacks\u001b[38;5;241m=\u001b[39mrun_manager\u001b[38;5;241m.\u001b[39mget_child(),\n\u001b[0;32m   4645\u001b[0m             recursion_limit\u001b[38;5;241m=\u001b[39mrecursion_limit \u001b[38;5;241m-\u001b[39m \u001b[38;5;241m1\u001b[39m,\n\u001b[0;32m   4646\u001b[0m         ),\n\u001b[0;32m   4647\u001b[0m     )\n\u001b[0;32m   4648\u001b[0m \u001b[38;5;28;01mreturn\u001b[39;00m cast(\u001b[38;5;124m\"\u001b[39m\u001b[38;5;124mOutput\u001b[39m\u001b[38;5;124m\"\u001b[39m, output)\n",
      "File \u001b[1;32mc:\\Users\\Usuario\\anaconda3\\Lib\\site-packages\\langchain_core\\runnables\\base.py:5430\u001b[0m, in \u001b[0;36mRunnableBindingBase.invoke\u001b[1;34m(self, input, config, **kwargs)\u001b[0m\n\u001b[0;32m   5423\u001b[0m \u001b[38;5;129m@override\u001b[39m\n\u001b[0;32m   5424\u001b[0m \u001b[38;5;28;01mdef\u001b[39;00m \u001b[38;5;21minvoke\u001b[39m(\n\u001b[0;32m   5425\u001b[0m     \u001b[38;5;28mself\u001b[39m,\n\u001b[1;32m   (...)\u001b[0m\n\u001b[0;32m   5428\u001b[0m     \u001b[38;5;241m*\u001b[39m\u001b[38;5;241m*\u001b[39mkwargs: Optional[Any],\n\u001b[0;32m   5429\u001b[0m ) \u001b[38;5;241m-\u001b[39m\u001b[38;5;241m>\u001b[39m Output:\n\u001b[1;32m-> 5430\u001b[0m     \u001b[38;5;28;01mreturn\u001b[39;00m \u001b[38;5;28mself\u001b[39m\u001b[38;5;241m.\u001b[39mbound\u001b[38;5;241m.\u001b[39minvoke(\n\u001b[0;32m   5431\u001b[0m         \u001b[38;5;28minput\u001b[39m,\n\u001b[0;32m   5432\u001b[0m         \u001b[38;5;28mself\u001b[39m\u001b[38;5;241m.\u001b[39m_merge_configs(config),\n\u001b[0;32m   5433\u001b[0m         \u001b[38;5;241m*\u001b[39m\u001b[38;5;241m*\u001b[39m{\u001b[38;5;241m*\u001b[39m\u001b[38;5;241m*\u001b[39m\u001b[38;5;28mself\u001b[39m\u001b[38;5;241m.\u001b[39mkwargs, \u001b[38;5;241m*\u001b[39m\u001b[38;5;241m*\u001b[39mkwargs},\n\u001b[0;32m   5434\u001b[0m     )\n",
      "File \u001b[1;32mc:\\Users\\Usuario\\anaconda3\\Lib\\site-packages\\langchain_core\\runnables\\base.py:3047\u001b[0m, in \u001b[0;36mRunnableSequence.invoke\u001b[1;34m(self, input, config, **kwargs)\u001b[0m\n\u001b[0;32m   3045\u001b[0m                 input_ \u001b[38;5;241m=\u001b[39m context\u001b[38;5;241m.\u001b[39mrun(step\u001b[38;5;241m.\u001b[39minvoke, input_, config, \u001b[38;5;241m*\u001b[39m\u001b[38;5;241m*\u001b[39mkwargs)\n\u001b[0;32m   3046\u001b[0m             \u001b[38;5;28;01melse\u001b[39;00m:\n\u001b[1;32m-> 3047\u001b[0m                 input_ \u001b[38;5;241m=\u001b[39m context\u001b[38;5;241m.\u001b[39mrun(step\u001b[38;5;241m.\u001b[39minvoke, input_, config)\n\u001b[0;32m   3048\u001b[0m \u001b[38;5;66;03m# finish the root run\u001b[39;00m\n\u001b[0;32m   3049\u001b[0m \u001b[38;5;28;01mexcept\u001b[39;00m \u001b[38;5;167;01mBaseException\u001b[39;00m \u001b[38;5;28;01mas\u001b[39;00m e:\n",
      "File \u001b[1;32mc:\\Users\\Usuario\\anaconda3\\Lib\\site-packages\\langchain_core\\runnables\\passthrough.py:511\u001b[0m, in \u001b[0;36mRunnableAssign.invoke\u001b[1;34m(self, input, config, **kwargs)\u001b[0m\n\u001b[0;32m    504\u001b[0m \u001b[38;5;129m@override\u001b[39m\n\u001b[0;32m    505\u001b[0m \u001b[38;5;28;01mdef\u001b[39;00m \u001b[38;5;21minvoke\u001b[39m(\n\u001b[0;32m    506\u001b[0m     \u001b[38;5;28mself\u001b[39m,\n\u001b[1;32m   (...)\u001b[0m\n\u001b[0;32m    509\u001b[0m     \u001b[38;5;241m*\u001b[39m\u001b[38;5;241m*\u001b[39mkwargs: Any,\n\u001b[0;32m    510\u001b[0m ) \u001b[38;5;241m-\u001b[39m\u001b[38;5;241m>\u001b[39m \u001b[38;5;28mdict\u001b[39m[\u001b[38;5;28mstr\u001b[39m, Any]:\n\u001b[1;32m--> 511\u001b[0m     \u001b[38;5;28;01mreturn\u001b[39;00m \u001b[38;5;28mself\u001b[39m\u001b[38;5;241m.\u001b[39m_call_with_config(\u001b[38;5;28mself\u001b[39m\u001b[38;5;241m.\u001b[39m_invoke, \u001b[38;5;28minput\u001b[39m, config, \u001b[38;5;241m*\u001b[39m\u001b[38;5;241m*\u001b[39mkwargs)\n",
      "File \u001b[1;32mc:\\Users\\Usuario\\anaconda3\\Lib\\site-packages\\langchain_core\\runnables\\base.py:1940\u001b[0m, in \u001b[0;36mRunnable._call_with_config\u001b[1;34m(self, func, input_, config, run_type, serialized, **kwargs)\u001b[0m\n\u001b[0;32m   1936\u001b[0m     child_config \u001b[38;5;241m=\u001b[39m patch_config(config, callbacks\u001b[38;5;241m=\u001b[39mrun_manager\u001b[38;5;241m.\u001b[39mget_child())\n\u001b[0;32m   1937\u001b[0m     \u001b[38;5;28;01mwith\u001b[39;00m set_config_context(child_config) \u001b[38;5;28;01mas\u001b[39;00m context:\n\u001b[0;32m   1938\u001b[0m         output \u001b[38;5;241m=\u001b[39m cast(\n\u001b[0;32m   1939\u001b[0m             \u001b[38;5;124m\"\u001b[39m\u001b[38;5;124mOutput\u001b[39m\u001b[38;5;124m\"\u001b[39m,\n\u001b[1;32m-> 1940\u001b[0m             context\u001b[38;5;241m.\u001b[39mrun(\n\u001b[0;32m   1941\u001b[0m                 call_func_with_variable_args,  \u001b[38;5;66;03m# type: ignore[arg-type]\u001b[39;00m\n\u001b[0;32m   1942\u001b[0m                 func,\n\u001b[0;32m   1943\u001b[0m                 input_,\n\u001b[0;32m   1944\u001b[0m                 config,\n\u001b[0;32m   1945\u001b[0m                 run_manager,\n\u001b[0;32m   1946\u001b[0m                 \u001b[38;5;241m*\u001b[39m\u001b[38;5;241m*\u001b[39mkwargs,\n\u001b[0;32m   1947\u001b[0m             ),\n\u001b[0;32m   1948\u001b[0m         )\n\u001b[0;32m   1949\u001b[0m \u001b[38;5;28;01mexcept\u001b[39;00m \u001b[38;5;167;01mBaseException\u001b[39;00m \u001b[38;5;28;01mas\u001b[39;00m e:\n\u001b[0;32m   1950\u001b[0m     run_manager\u001b[38;5;241m.\u001b[39mon_chain_error(e)\n",
      "File \u001b[1;32mc:\\Users\\Usuario\\anaconda3\\Lib\\site-packages\\langchain_core\\runnables\\config.py:428\u001b[0m, in \u001b[0;36mcall_func_with_variable_args\u001b[1;34m(func, input, config, run_manager, **kwargs)\u001b[0m\n\u001b[0;32m    426\u001b[0m \u001b[38;5;28;01mif\u001b[39;00m run_manager \u001b[38;5;129;01mis\u001b[39;00m \u001b[38;5;129;01mnot\u001b[39;00m \u001b[38;5;28;01mNone\u001b[39;00m \u001b[38;5;129;01mand\u001b[39;00m accepts_run_manager(func):\n\u001b[0;32m    427\u001b[0m     kwargs[\u001b[38;5;124m\"\u001b[39m\u001b[38;5;124mrun_manager\u001b[39m\u001b[38;5;124m\"\u001b[39m] \u001b[38;5;241m=\u001b[39m run_manager\n\u001b[1;32m--> 428\u001b[0m \u001b[38;5;28;01mreturn\u001b[39;00m func(\u001b[38;5;28minput\u001b[39m, \u001b[38;5;241m*\u001b[39m\u001b[38;5;241m*\u001b[39mkwargs)\n",
      "File \u001b[1;32mc:\\Users\\Usuario\\anaconda3\\Lib\\site-packages\\langchain_core\\runnables\\passthrough.py:497\u001b[0m, in \u001b[0;36mRunnableAssign._invoke\u001b[1;34m(self, value, run_manager, config, **kwargs)\u001b[0m\n\u001b[0;32m    492\u001b[0m     msg \u001b[38;5;241m=\u001b[39m \u001b[38;5;124m\"\u001b[39m\u001b[38;5;124mThe input to RunnablePassthrough.assign() must be a dict.\u001b[39m\u001b[38;5;124m\"\u001b[39m\n\u001b[0;32m    493\u001b[0m     \u001b[38;5;28;01mraise\u001b[39;00m \u001b[38;5;167;01mValueError\u001b[39;00m(msg)  \u001b[38;5;66;03m# noqa: TRY004\u001b[39;00m\n\u001b[0;32m    495\u001b[0m \u001b[38;5;28;01mreturn\u001b[39;00m {\n\u001b[0;32m    496\u001b[0m     \u001b[38;5;241m*\u001b[39m\u001b[38;5;241m*\u001b[39mvalue,\n\u001b[1;32m--> 497\u001b[0m     \u001b[38;5;241m*\u001b[39m\u001b[38;5;241m*\u001b[39m\u001b[38;5;28mself\u001b[39m\u001b[38;5;241m.\u001b[39mmapper\u001b[38;5;241m.\u001b[39minvoke(\n\u001b[0;32m    498\u001b[0m         value,\n\u001b[0;32m    499\u001b[0m         patch_config(config, callbacks\u001b[38;5;241m=\u001b[39mrun_manager\u001b[38;5;241m.\u001b[39mget_child()),\n\u001b[0;32m    500\u001b[0m         \u001b[38;5;241m*\u001b[39m\u001b[38;5;241m*\u001b[39mkwargs,\n\u001b[0;32m    501\u001b[0m     ),\n\u001b[0;32m    502\u001b[0m }\n",
      "File \u001b[1;32mc:\\Users\\Usuario\\anaconda3\\Lib\\site-packages\\langchain_core\\runnables\\base.py:3774\u001b[0m, in \u001b[0;36mRunnableParallel.invoke\u001b[1;34m(self, input, config, **kwargs)\u001b[0m\n\u001b[0;32m   3769\u001b[0m     \u001b[38;5;28;01mwith\u001b[39;00m get_executor_for_config(config) \u001b[38;5;28;01mas\u001b[39;00m executor:\n\u001b[0;32m   3770\u001b[0m         futures \u001b[38;5;241m=\u001b[39m [\n\u001b[0;32m   3771\u001b[0m             executor\u001b[38;5;241m.\u001b[39msubmit(_invoke_step, step, \u001b[38;5;28minput\u001b[39m, config, key)\n\u001b[0;32m   3772\u001b[0m             \u001b[38;5;28;01mfor\u001b[39;00m key, step \u001b[38;5;129;01min\u001b[39;00m steps\u001b[38;5;241m.\u001b[39mitems()\n\u001b[0;32m   3773\u001b[0m         ]\n\u001b[1;32m-> 3774\u001b[0m         output \u001b[38;5;241m=\u001b[39m {key: future\u001b[38;5;241m.\u001b[39mresult() \u001b[38;5;28;01mfor\u001b[39;00m key, future \u001b[38;5;129;01min\u001b[39;00m \u001b[38;5;28mzip\u001b[39m(steps, futures)}\n\u001b[0;32m   3775\u001b[0m \u001b[38;5;66;03m# finish the root run\u001b[39;00m\n\u001b[0;32m   3776\u001b[0m \u001b[38;5;28;01mexcept\u001b[39;00m \u001b[38;5;167;01mBaseException\u001b[39;00m \u001b[38;5;28;01mas\u001b[39;00m e:\n",
      "File \u001b[1;32mc:\\Users\\Usuario\\anaconda3\\Lib\\site-packages\\langchain_core\\runnables\\base.py:3774\u001b[0m, in \u001b[0;36m<dictcomp>\u001b[1;34m(.0)\u001b[0m\n\u001b[0;32m   3769\u001b[0m     \u001b[38;5;28;01mwith\u001b[39;00m get_executor_for_config(config) \u001b[38;5;28;01mas\u001b[39;00m executor:\n\u001b[0;32m   3770\u001b[0m         futures \u001b[38;5;241m=\u001b[39m [\n\u001b[0;32m   3771\u001b[0m             executor\u001b[38;5;241m.\u001b[39msubmit(_invoke_step, step, \u001b[38;5;28minput\u001b[39m, config, key)\n\u001b[0;32m   3772\u001b[0m             \u001b[38;5;28;01mfor\u001b[39;00m key, step \u001b[38;5;129;01min\u001b[39;00m steps\u001b[38;5;241m.\u001b[39mitems()\n\u001b[0;32m   3773\u001b[0m         ]\n\u001b[1;32m-> 3774\u001b[0m         output \u001b[38;5;241m=\u001b[39m {key: future\u001b[38;5;241m.\u001b[39mresult() \u001b[38;5;28;01mfor\u001b[39;00m key, future \u001b[38;5;129;01min\u001b[39;00m \u001b[38;5;28mzip\u001b[39m(steps, futures)}\n\u001b[0;32m   3775\u001b[0m \u001b[38;5;66;03m# finish the root run\u001b[39;00m\n\u001b[0;32m   3776\u001b[0m \u001b[38;5;28;01mexcept\u001b[39;00m \u001b[38;5;167;01mBaseException\u001b[39;00m \u001b[38;5;28;01mas\u001b[39;00m e:\n",
      "File \u001b[1;32mc:\\Users\\Usuario\\anaconda3\\Lib\\concurrent\\futures\\_base.py:456\u001b[0m, in \u001b[0;36mFuture.result\u001b[1;34m(self, timeout)\u001b[0m\n\u001b[0;32m    454\u001b[0m     \u001b[38;5;28;01mraise\u001b[39;00m CancelledError()\n\u001b[0;32m    455\u001b[0m \u001b[38;5;28;01melif\u001b[39;00m \u001b[38;5;28mself\u001b[39m\u001b[38;5;241m.\u001b[39m_state \u001b[38;5;241m==\u001b[39m FINISHED:\n\u001b[1;32m--> 456\u001b[0m     \u001b[38;5;28;01mreturn\u001b[39;00m \u001b[38;5;28mself\u001b[39m\u001b[38;5;241m.\u001b[39m__get_result()\n\u001b[0;32m    457\u001b[0m \u001b[38;5;28;01melse\u001b[39;00m:\n\u001b[0;32m    458\u001b[0m     \u001b[38;5;28;01mraise\u001b[39;00m \u001b[38;5;167;01mTimeoutError\u001b[39;00m()\n",
      "File \u001b[1;32mc:\\Users\\Usuario\\anaconda3\\Lib\\concurrent\\futures\\_base.py:401\u001b[0m, in \u001b[0;36mFuture.__get_result\u001b[1;34m(self)\u001b[0m\n\u001b[0;32m    399\u001b[0m \u001b[38;5;28;01mif\u001b[39;00m \u001b[38;5;28mself\u001b[39m\u001b[38;5;241m.\u001b[39m_exception:\n\u001b[0;32m    400\u001b[0m     \u001b[38;5;28;01mtry\u001b[39;00m:\n\u001b[1;32m--> 401\u001b[0m         \u001b[38;5;28;01mraise\u001b[39;00m \u001b[38;5;28mself\u001b[39m\u001b[38;5;241m.\u001b[39m_exception\n\u001b[0;32m    402\u001b[0m     \u001b[38;5;28;01mfinally\u001b[39;00m:\n\u001b[0;32m    403\u001b[0m         \u001b[38;5;66;03m# Break a reference cycle with the exception in self._exception\u001b[39;00m\n\u001b[0;32m    404\u001b[0m         \u001b[38;5;28mself\u001b[39m \u001b[38;5;241m=\u001b[39m \u001b[38;5;28;01mNone\u001b[39;00m\n",
      "File \u001b[1;32mc:\\Users\\Usuario\\anaconda3\\Lib\\concurrent\\futures\\thread.py:58\u001b[0m, in \u001b[0;36m_WorkItem.run\u001b[1;34m(self)\u001b[0m\n\u001b[0;32m     55\u001b[0m     \u001b[38;5;28;01mreturn\u001b[39;00m\n\u001b[0;32m     57\u001b[0m \u001b[38;5;28;01mtry\u001b[39;00m:\n\u001b[1;32m---> 58\u001b[0m     result \u001b[38;5;241m=\u001b[39m \u001b[38;5;28mself\u001b[39m\u001b[38;5;241m.\u001b[39mfn(\u001b[38;5;241m*\u001b[39m\u001b[38;5;28mself\u001b[39m\u001b[38;5;241m.\u001b[39margs, \u001b[38;5;241m*\u001b[39m\u001b[38;5;241m*\u001b[39m\u001b[38;5;28mself\u001b[39m\u001b[38;5;241m.\u001b[39mkwargs)\n\u001b[0;32m     59\u001b[0m \u001b[38;5;28;01mexcept\u001b[39;00m \u001b[38;5;167;01mBaseException\u001b[39;00m \u001b[38;5;28;01mas\u001b[39;00m exc:\n\u001b[0;32m     60\u001b[0m     \u001b[38;5;28mself\u001b[39m\u001b[38;5;241m.\u001b[39mfuture\u001b[38;5;241m.\u001b[39mset_exception(exc)\n",
      "File \u001b[1;32mc:\\Users\\Usuario\\anaconda3\\Lib\\site-packages\\langchain_core\\runnables\\base.py:3758\u001b[0m, in \u001b[0;36mRunnableParallel.invoke.<locals>._invoke_step\u001b[1;34m(step, input_, config, key)\u001b[0m\n\u001b[0;32m   3752\u001b[0m child_config \u001b[38;5;241m=\u001b[39m patch_config(\n\u001b[0;32m   3753\u001b[0m     config,\n\u001b[0;32m   3754\u001b[0m     \u001b[38;5;66;03m# mark each step as a child run\u001b[39;00m\n\u001b[0;32m   3755\u001b[0m     callbacks\u001b[38;5;241m=\u001b[39mrun_manager\u001b[38;5;241m.\u001b[39mget_child(\u001b[38;5;124mf\u001b[39m\u001b[38;5;124m\"\u001b[39m\u001b[38;5;124mmap:key:\u001b[39m\u001b[38;5;132;01m{\u001b[39;00mkey\u001b[38;5;132;01m}\u001b[39;00m\u001b[38;5;124m\"\u001b[39m),\n\u001b[0;32m   3756\u001b[0m )\n\u001b[0;32m   3757\u001b[0m \u001b[38;5;28;01mwith\u001b[39;00m set_config_context(child_config) \u001b[38;5;28;01mas\u001b[39;00m context:\n\u001b[1;32m-> 3758\u001b[0m     \u001b[38;5;28;01mreturn\u001b[39;00m context\u001b[38;5;241m.\u001b[39mrun(\n\u001b[0;32m   3759\u001b[0m         step\u001b[38;5;241m.\u001b[39minvoke,\n\u001b[0;32m   3760\u001b[0m         input_,\n\u001b[0;32m   3761\u001b[0m         child_config,\n\u001b[0;32m   3762\u001b[0m     )\n",
      "File \u001b[1;32mc:\\Users\\Usuario\\anaconda3\\Lib\\site-packages\\langchain_core\\runnables\\base.py:5430\u001b[0m, in \u001b[0;36mRunnableBindingBase.invoke\u001b[1;34m(self, input, config, **kwargs)\u001b[0m\n\u001b[0;32m   5423\u001b[0m \u001b[38;5;129m@override\u001b[39m\n\u001b[0;32m   5424\u001b[0m \u001b[38;5;28;01mdef\u001b[39;00m \u001b[38;5;21minvoke\u001b[39m(\n\u001b[0;32m   5425\u001b[0m     \u001b[38;5;28mself\u001b[39m,\n\u001b[1;32m   (...)\u001b[0m\n\u001b[0;32m   5428\u001b[0m     \u001b[38;5;241m*\u001b[39m\u001b[38;5;241m*\u001b[39mkwargs: Optional[Any],\n\u001b[0;32m   5429\u001b[0m ) \u001b[38;5;241m-\u001b[39m\u001b[38;5;241m>\u001b[39m Output:\n\u001b[1;32m-> 5430\u001b[0m     \u001b[38;5;28;01mreturn\u001b[39;00m \u001b[38;5;28mself\u001b[39m\u001b[38;5;241m.\u001b[39mbound\u001b[38;5;241m.\u001b[39minvoke(\n\u001b[0;32m   5431\u001b[0m         \u001b[38;5;28minput\u001b[39m,\n\u001b[0;32m   5432\u001b[0m         \u001b[38;5;28mself\u001b[39m\u001b[38;5;241m.\u001b[39m_merge_configs(config),\n\u001b[0;32m   5433\u001b[0m         \u001b[38;5;241m*\u001b[39m\u001b[38;5;241m*\u001b[39m{\u001b[38;5;241m*\u001b[39m\u001b[38;5;241m*\u001b[39m\u001b[38;5;28mself\u001b[39m\u001b[38;5;241m.\u001b[39mkwargs, \u001b[38;5;241m*\u001b[39m\u001b[38;5;241m*\u001b[39mkwargs},\n\u001b[0;32m   5434\u001b[0m     )\n",
      "File \u001b[1;32mc:\\Users\\Usuario\\anaconda3\\Lib\\site-packages\\langchain_core\\runnables\\base.py:3047\u001b[0m, in \u001b[0;36mRunnableSequence.invoke\u001b[1;34m(self, input, config, **kwargs)\u001b[0m\n\u001b[0;32m   3045\u001b[0m                 input_ \u001b[38;5;241m=\u001b[39m context\u001b[38;5;241m.\u001b[39mrun(step\u001b[38;5;241m.\u001b[39minvoke, input_, config, \u001b[38;5;241m*\u001b[39m\u001b[38;5;241m*\u001b[39mkwargs)\n\u001b[0;32m   3046\u001b[0m             \u001b[38;5;28;01melse\u001b[39;00m:\n\u001b[1;32m-> 3047\u001b[0m                 input_ \u001b[38;5;241m=\u001b[39m context\u001b[38;5;241m.\u001b[39mrun(step\u001b[38;5;241m.\u001b[39minvoke, input_, config)\n\u001b[0;32m   3048\u001b[0m \u001b[38;5;66;03m# finish the root run\u001b[39;00m\n\u001b[0;32m   3049\u001b[0m \u001b[38;5;28;01mexcept\u001b[39;00m \u001b[38;5;167;01mBaseException\u001b[39;00m \u001b[38;5;28;01mas\u001b[39;00m e:\n",
      "File \u001b[1;32mc:\\Users\\Usuario\\anaconda3\\Lib\\site-packages\\langchain_core\\prompts\\base.py:216\u001b[0m, in \u001b[0;36mBasePromptTemplate.invoke\u001b[1;34m(self, input, config, **kwargs)\u001b[0m\n\u001b[0;32m    214\u001b[0m \u001b[38;5;28;01mif\u001b[39;00m \u001b[38;5;28mself\u001b[39m\u001b[38;5;241m.\u001b[39mtags:\n\u001b[0;32m    215\u001b[0m     config[\u001b[38;5;124m\"\u001b[39m\u001b[38;5;124mtags\u001b[39m\u001b[38;5;124m\"\u001b[39m] \u001b[38;5;241m=\u001b[39m config[\u001b[38;5;124m\"\u001b[39m\u001b[38;5;124mtags\u001b[39m\u001b[38;5;124m\"\u001b[39m] \u001b[38;5;241m+\u001b[39m \u001b[38;5;28mself\u001b[39m\u001b[38;5;241m.\u001b[39mtags\n\u001b[1;32m--> 216\u001b[0m \u001b[38;5;28;01mreturn\u001b[39;00m \u001b[38;5;28mself\u001b[39m\u001b[38;5;241m.\u001b[39m_call_with_config(\n\u001b[0;32m    217\u001b[0m     \u001b[38;5;28mself\u001b[39m\u001b[38;5;241m.\u001b[39m_format_prompt_with_error_handling,\n\u001b[0;32m    218\u001b[0m     \u001b[38;5;28minput\u001b[39m,\n\u001b[0;32m    219\u001b[0m     config,\n\u001b[0;32m    220\u001b[0m     run_type\u001b[38;5;241m=\u001b[39m\u001b[38;5;124m\"\u001b[39m\u001b[38;5;124mprompt\u001b[39m\u001b[38;5;124m\"\u001b[39m,\n\u001b[0;32m    221\u001b[0m     serialized\u001b[38;5;241m=\u001b[39m\u001b[38;5;28mself\u001b[39m\u001b[38;5;241m.\u001b[39m_serialized,\n\u001b[0;32m    222\u001b[0m )\n",
      "File \u001b[1;32mc:\\Users\\Usuario\\anaconda3\\Lib\\site-packages\\langchain_core\\runnables\\base.py:1940\u001b[0m, in \u001b[0;36mRunnable._call_with_config\u001b[1;34m(self, func, input_, config, run_type, serialized, **kwargs)\u001b[0m\n\u001b[0;32m   1936\u001b[0m     child_config \u001b[38;5;241m=\u001b[39m patch_config(config, callbacks\u001b[38;5;241m=\u001b[39mrun_manager\u001b[38;5;241m.\u001b[39mget_child())\n\u001b[0;32m   1937\u001b[0m     \u001b[38;5;28;01mwith\u001b[39;00m set_config_context(child_config) \u001b[38;5;28;01mas\u001b[39;00m context:\n\u001b[0;32m   1938\u001b[0m         output \u001b[38;5;241m=\u001b[39m cast(\n\u001b[0;32m   1939\u001b[0m             \u001b[38;5;124m\"\u001b[39m\u001b[38;5;124mOutput\u001b[39m\u001b[38;5;124m\"\u001b[39m,\n\u001b[1;32m-> 1940\u001b[0m             context\u001b[38;5;241m.\u001b[39mrun(\n\u001b[0;32m   1941\u001b[0m                 call_func_with_variable_args,  \u001b[38;5;66;03m# type: ignore[arg-type]\u001b[39;00m\n\u001b[0;32m   1942\u001b[0m                 func,\n\u001b[0;32m   1943\u001b[0m                 input_,\n\u001b[0;32m   1944\u001b[0m                 config,\n\u001b[0;32m   1945\u001b[0m                 run_manager,\n\u001b[0;32m   1946\u001b[0m                 \u001b[38;5;241m*\u001b[39m\u001b[38;5;241m*\u001b[39mkwargs,\n\u001b[0;32m   1947\u001b[0m             ),\n\u001b[0;32m   1948\u001b[0m         )\n\u001b[0;32m   1949\u001b[0m \u001b[38;5;28;01mexcept\u001b[39;00m \u001b[38;5;167;01mBaseException\u001b[39;00m \u001b[38;5;28;01mas\u001b[39;00m e:\n\u001b[0;32m   1950\u001b[0m     run_manager\u001b[38;5;241m.\u001b[39mon_chain_error(e)\n",
      "File \u001b[1;32mc:\\Users\\Usuario\\anaconda3\\Lib\\site-packages\\langchain_core\\runnables\\config.py:428\u001b[0m, in \u001b[0;36mcall_func_with_variable_args\u001b[1;34m(func, input, config, run_manager, **kwargs)\u001b[0m\n\u001b[0;32m    426\u001b[0m \u001b[38;5;28;01mif\u001b[39;00m run_manager \u001b[38;5;129;01mis\u001b[39;00m \u001b[38;5;129;01mnot\u001b[39;00m \u001b[38;5;28;01mNone\u001b[39;00m \u001b[38;5;129;01mand\u001b[39;00m accepts_run_manager(func):\n\u001b[0;32m    427\u001b[0m     kwargs[\u001b[38;5;124m\"\u001b[39m\u001b[38;5;124mrun_manager\u001b[39m\u001b[38;5;124m\"\u001b[39m] \u001b[38;5;241m=\u001b[39m run_manager\n\u001b[1;32m--> 428\u001b[0m \u001b[38;5;28;01mreturn\u001b[39;00m func(\u001b[38;5;28minput\u001b[39m, \u001b[38;5;241m*\u001b[39m\u001b[38;5;241m*\u001b[39mkwargs)\n",
      "File \u001b[1;32mc:\\Users\\Usuario\\anaconda3\\Lib\\site-packages\\langchain_core\\prompts\\base.py:189\u001b[0m, in \u001b[0;36mBasePromptTemplate._format_prompt_with_error_handling\u001b[1;34m(self, inner_input)\u001b[0m\n\u001b[0;32m    188\u001b[0m \u001b[38;5;28;01mdef\u001b[39;00m \u001b[38;5;21m_format_prompt_with_error_handling\u001b[39m(\u001b[38;5;28mself\u001b[39m, inner_input: \u001b[38;5;28mdict\u001b[39m) \u001b[38;5;241m-\u001b[39m\u001b[38;5;241m>\u001b[39m PromptValue:\n\u001b[1;32m--> 189\u001b[0m     _inner_input \u001b[38;5;241m=\u001b[39m \u001b[38;5;28mself\u001b[39m\u001b[38;5;241m.\u001b[39m_validate_input(inner_input)\n\u001b[0;32m    190\u001b[0m     \u001b[38;5;28;01mreturn\u001b[39;00m \u001b[38;5;28mself\u001b[39m\u001b[38;5;241m.\u001b[39mformat_prompt(\u001b[38;5;241m*\u001b[39m\u001b[38;5;241m*\u001b[39m_inner_input)\n",
      "File \u001b[1;32mc:\\Users\\Usuario\\anaconda3\\Lib\\site-packages\\langchain_core\\prompts\\base.py:183\u001b[0m, in \u001b[0;36mBasePromptTemplate._validate_input\u001b[1;34m(self, inner_input)\u001b[0m\n\u001b[0;32m    177\u001b[0m     example_key \u001b[38;5;241m=\u001b[39m missing\u001b[38;5;241m.\u001b[39mpop()\n\u001b[0;32m    178\u001b[0m     msg \u001b[38;5;241m+\u001b[39m\u001b[38;5;241m=\u001b[39m (\n\u001b[0;32m    179\u001b[0m         \u001b[38;5;124mf\u001b[39m\u001b[38;5;124m\"\u001b[39m\u001b[38;5;130;01m\\n\u001b[39;00m\u001b[38;5;124mNote: if you intended \u001b[39m\u001b[38;5;130;01m{{\u001b[39;00m\u001b[38;5;132;01m{\u001b[39;00mexample_key\u001b[38;5;132;01m}\u001b[39;00m\u001b[38;5;130;01m}}\u001b[39;00m\u001b[38;5;124m to be part of the string\u001b[39m\u001b[38;5;124m\"\u001b[39m\n\u001b[0;32m    180\u001b[0m         \u001b[38;5;124m\"\u001b[39m\u001b[38;5;124m and not a variable, please escape it with double curly braces like: \u001b[39m\u001b[38;5;124m\"\u001b[39m\n\u001b[0;32m    181\u001b[0m         \u001b[38;5;124mf\u001b[39m\u001b[38;5;124m\"\u001b[39m\u001b[38;5;124m'\u001b[39m\u001b[38;5;130;01m{{\u001b[39;00m\u001b[38;5;130;01m{{\u001b[39;00m\u001b[38;5;132;01m{\u001b[39;00mexample_key\u001b[38;5;132;01m}\u001b[39;00m\u001b[38;5;130;01m}}\u001b[39;00m\u001b[38;5;130;01m}}\u001b[39;00m\u001b[38;5;124m'\u001b[39m\u001b[38;5;124m.\u001b[39m\u001b[38;5;124m\"\u001b[39m\n\u001b[0;32m    182\u001b[0m     )\n\u001b[1;32m--> 183\u001b[0m     \u001b[38;5;28;01mraise\u001b[39;00m \u001b[38;5;167;01mKeyError\u001b[39;00m(\n\u001b[0;32m    184\u001b[0m         create_message(message\u001b[38;5;241m=\u001b[39mmsg, error_code\u001b[38;5;241m=\u001b[39mErrorCode\u001b[38;5;241m.\u001b[39mINVALID_PROMPT_INPUT)\n\u001b[0;32m    185\u001b[0m     )\n\u001b[0;32m    186\u001b[0m \u001b[38;5;28;01mreturn\u001b[39;00m inner_input\n",
      "\u001b[1;31mKeyError\u001b[0m: \"Input to ChatPromptTemplate is missing variables {'hl7_context'}.  Expected: ['chat_history', 'context', 'hl7_context', 'input', 'patient_context'] Received: ['input', 'patient_context', 'chat_history', 'context']\\nNote: if you intended {hl7_context} to be part of the string and not a variable, please escape it with double curly braces like: '{{hl7_context}}'.\\nFor troubleshooting, visit: https://python.langchain.com/docs/troubleshooting/errors/INVALID_PROMPT_INPUT \"",
      "\u001b[0mDuring task with name 'generate_answer' and id '9e0a65a6-9f20-34bb-92ab-7f1c83fd56e9'"
     ]
    }
   ],
   "source": [
    "from RAG.rag import RAG_chatbot\n",
    "bot = RAG_chatbot()\n",
    "print(\n",
    "    bot.app.invoke(\n",
    "        {\n",
    "            \"question\": \"¿Es preocupante un valor de WBC de 7.5?\",\n",
    "            \"patient_id\": \"paciente-1\"\n",
    "        }\n",
    "    )[\"llm_output\"]\n",
    ")"
   ]
  },
  {
   "cell_type": "code",
   "execution_count": 2,
   "id": "7f6f3c88",
   "metadata": {},
   "outputs": [
    {
     "name": "stdout",
     "output_type": "stream",
     "text": [
      "WARNING:tensorflow:From c:\\Users\\Usuario\\anaconda3\\Lib\\site-packages\\tf_keras\\src\\losses.py:2976: The name tf.losses.sparse_softmax_cross_entropy is deprecated. Please use tf.compat.v1.losses.sparse_softmax_cross_entropy instead.\n",
      "\n"
     ]
    },
    {
     "name": "stderr",
     "output_type": "stream",
     "text": [
      "Failed to send telemetry event ClientStartEvent: capture() takes 1 positional argument but 3 were given\n",
      "Failed to send telemetry event ClientCreateCollectionEvent: capture() takes 1 positional argument but 3 were given\n",
      "Failed to send telemetry event CollectionQueryEvent: capture() takes 1 positional argument but 3 were given\n"
     ]
    },
    {
     "name": "stdout",
     "output_type": "stream",
     "text": [
      "\n",
      "=== DEBUG generate_answer ===\n",
      "Pregunta: ¿Es preocupante un valor de WBC de 7.5?\n",
      "patient_context → 'Paciente Ana (ID paciente-1). Hemoglobina: 12.0 g/dL. Medicamento actual: (sin medicación registrada).'\n",
      "docs recuperados → 4\n",
      "⤷ primer doc: ing. Ann Cardiothorac Surg. 2013;2:427–430.\n",
      " 7 . Gaudino M, Benedetto U, Fremes S, et al. Radial-artery or saphenous-\n",
      "ve …\n",
      "=============================\n",
      "\n",
      "\n",
      "🧪 PROMPT COMPLETO QUE RECIBE EL MODELO:\n",
      "\n",
      "System: Eres un profesional médico.\n",
      "                Primero revisa la ficha clínica del paciente.\n",
      "                Luego usa los documentos recuperados para justificar tu respuesta.\n",
      "                === Información del paciente ===\n",
      "                Paciente Ana (ID paciente-1). Hemoglobina: 12.0 g/dL. Medicamento actual: (sin medicación registrada).\n",
      "                === Documentos de referencia ===\n",
      "                ing. Ann Cardiothorac Surg. 2013;2:427–430.\n",
      " 7 . Gaudino M, Benedetto U, Fremes S, et al. Radial-artery or saphenous-\n",
      "vein grafts in coronary-artery bypass surgery. N Engl J Med. 2018;  \n",
      "378:2069–2077 .\n",
      " 8. Fihn SD, Blankenship JC, Alexander KP, et al. 2014 ACC/AHA/AATS/\n",
      "PCNA/SCAI/STS focused update of the guideline for the diagnosis and \n",
      "management of patients with stable ischemic heart disease: a report of the \n",
      "American College of Cardiology/American Heart Association Task Force \n",
      "on Practice Guidelines, and the American Association for Thoracic Surgery, \n",
      "Preventive Cardiovascular Nurses Association, Society for Cardiovascular \n",
      "Angiography and Interventions, and Society of Thoracic Surgeons. Circula-\n",
      "tion. 2014;130:1749–1767 .\n",
      " 9. Hammermeister KE, DeRouen TA, Dodge HT. Variables predictive of sur-\n",
      "vival in patients with coronary disease. Selection by univariate and multi-\n",
      "variate analyses from the clinical, electrocardiographic, exercise, arte-\n",
      "\n",
      "---\n",
      "\n",
      "ing. Ann Cardiothorac Surg. 2013;2:427–430.\n",
      " 7 . Gaudino M, Benedetto U, Fremes S, et al. Radial-artery or saphenous-\n",
      "vein grafts in coronary-artery bypass surgery. N Engl J Med. 2018;  \n",
      "378:2069–2077 .\n",
      " 8. Fihn SD, Blankenship JC, Alexander KP, et al. 2014 ACC/AHA/AATS/\n",
      "PCNA/SCAI/STS focused update of the guideline for the diagnosis and \n",
      "management of patients with stable ischemic heart disease: a report of the \n",
      "American College of Cardiology/American Heart Association Task Force \n",
      "on Practice Guidelines, and the American Association for Thoracic Surgery, \n",
      "Preventive Cardiovascular Nurses Association, Society for Cardiovascular \n",
      "Angiography and Interventions, and Society of Thoracic Surgeons. Circula-\n",
      "tion. 2014;130:1749–1767 .\n",
      " 9. Hammermeister KE, DeRouen TA, Dodge HT. Variables predictive of sur-\n",
      "vival in patients with coronary disease. Selection by univariate and multi-\n",
      "variate analyses from the clinical, electrocardiographic, exercise, arte-\n",
      "\n",
      "---\n",
      "\n",
      "ing. Ann Cardiothorac Surg. 2013;2:427–430.\n",
      " 7 . Gaudino M, Benedetto U, Fremes S, et al. Radial-artery or saphenous-\n",
      "vein grafts in coronary-artery bypass surgery. N Engl J Med. 2018;  \n",
      "378:2069–2077 .\n",
      " 8. Fihn SD, Blankenship JC, Alexander KP, et al. 2014 ACC/AHA/AATS/\n",
      "PCNA/SCAI/STS focused update of the guideline for the diagnosis and \n",
      "management of patients with stable ischemic heart disease: a report of the \n",
      "American College of Cardiology/American Heart Association Task Force \n",
      "on Practice Guidelines, and the American Association for Thoracic Surgery, \n",
      "Preventive Cardiovascular Nurses Association, Society for Cardiovascular \n",
      "Angiography and Interventions, and Society of Thoracic Surgeons. Circula-\n",
      "tion. 2014;130:1749–1767 .\n",
      " 9. Hammermeister KE, DeRouen TA, Dodge HT. Variables predictive of sur-\n",
      "vival in patients with coronary disease. Selection by univariate and multi-\n",
      "variate analyses from the clinical, electrocardiographic, exercise, arte-\n",
      "Human: ¿Es preocupante un valor de WBC de 7.5?\n",
      "\n",
      "🔚 FIN DEL PROMPT\n",
      "\n",
      "=== LLM raw output === 'Hola Ana!\\n\\nEntiendo su inquietud con respecto a los niveles de glóbulos blancos en sangre (WBC). Como médico, me preocupa especialmente que los niveles estén altos, ya que pueden ser una señal de una respuesta inflamatoria en el cuerpo. Sin embargo, no puedo determinar si su situación es preocupante sin más información.\\n\\nPor lo general, la norma para los niveles de glóbulos blancos varía según la edad y el género. En pacientes adultos sanos, los niveles de WBC suelen variar entre 4 y 11 × 10⁹/L. Sin embargo, en pacientes con enfermedades crónicas o infecciones graves, los niveles pueden subir a niveles más altos.\\n\\nSin embargo, como médico, debemos considerar que el nivel de WBC es solo una señal de alerta y no necesariamente indica la presencia de una enfermedad. Otros factores deben ser evaluados para determinar si su situación es preocupante, como la causa del aumento en los niveles de WBC.\\n\\nEn resumen, aunque un valor de WBC de 7.5 puede ser alto en comparación con los niveles normales, no podemos decir que sea \"preocupante\" sin más información. Si tiene alguna inquietud o ha sido diagnosticado con una enfermedad crónica, es importante consultar con su médico para evaluar las opciones de tratamiento adecuadas.\\n\\nEspero haber respondido a sus preguntas. ¡Si necesita ayuda adicional!' \n",
      "\n",
      "Hola Ana!\n",
      "\n",
      "Entiendo su inquietud con respecto a los niveles de glóbulos blancos en sangre (WBC). Como médico, me preocupa especialmente que los niveles estén altos, ya que pueden ser una señal de una respuesta inflamatoria en el cuerpo. Sin embargo, no puedo determinar si su situación es preocupante sin más información.\n",
      "\n",
      "Por lo general, la norma para los niveles de glóbulos blancos varía según la edad y el género. En pacientes adultos sanos, los niveles de WBC suelen variar entre 4 y 11 × 10⁹/L. Sin embargo, en pacientes con enfermedades crónicas o infecciones graves, los niveles pueden subir a niveles más altos.\n",
      "\n",
      "Sin embargo, como médico, debemos considerar que el nivel de WBC es solo una señal de alerta y no necesariamente indica la presencia de una enfermedad. Otros factores deben ser evaluados para determinar si su situación es preocupante, como la causa del aumento en los niveles de WBC.\n",
      "\n",
      "En resumen, aunque un valor de WBC de 7.5 puede ser alto en comparación con los niveles normales, no podemos decir que sea \"preocupante\" sin más información. Si tiene alguna inquietud o ha sido diagnosticado con una enfermedad crónica, es importante consultar con su médico para evaluar las opciones de tratamiento adecuadas.\n",
      "\n",
      "Espero haber respondido a sus preguntas. ¡Si necesita ayuda adicional!\n"
     ]
    }
   ],
   "source": [
    "from RAG.rag import RAG_chatbot\n",
    "bot = RAG_chatbot()\n",
    "print(\n",
    "    bot.app.invoke(\n",
    "        {\"question\": \"¿Es preocupante un valor de WBC de 7.5?\",\n",
    "         \"patient_id\": \"paciente-1\"}\n",
    "    )[\"llm_output\"]\n",
    ")"
   ]
  },
  {
   "cell_type": "code",
   "execution_count": 1,
   "id": "534d785b",
   "metadata": {},
   "outputs": [
    {
     "name": "stdout",
     "output_type": "stream",
     "text": [
      "WARNING:tensorflow:From c:\\Users\\Usuario\\anaconda3\\Lib\\site-packages\\tf_keras\\src\\losses.py:2976: The name tf.losses.sparse_softmax_cross_entropy is deprecated. Please use tf.compat.v1.losses.sparse_softmax_cross_entropy instead.\n",
      "\n"
     ]
    },
    {
     "name": "stderr",
     "output_type": "stream",
     "text": [
      "Failed to send telemetry event ClientStartEvent: capture() takes 1 positional argument but 3 were given\n",
      "Failed to send telemetry event ClientCreateCollectionEvent: capture() takes 1 positional argument but 3 were given\n"
     ]
    }
   ],
   "source": [
    "from RAG.rag import RAG_chatbot\n",
    "\n",
    "bot = RAG_chatbot()"
   ]
  },
  {
   "cell_type": "code",
   "execution_count": 2,
   "id": "435f798a",
   "metadata": {},
   "outputs": [],
   "source": [
    "user_query = (\n",
    "    \"Desde ayer tengo fatiga extrema, náuseas y entumecimiento en las manos. \"\n",
    "    \"¿Debo preocuparme? ¿Qué exámenes necesito?\"\n",
    ")\n",
    "\n",
    "patient_id = \"paciente-1\"  "
   ]
  },
  {
   "cell_type": "code",
   "execution_count": 3,
   "id": "be4fa946",
   "metadata": {},
   "outputs": [
    {
     "name": "stderr",
     "output_type": "stream",
     "text": [
      "Failed to send telemetry event CollectionQueryEvent: capture() takes 1 positional argument but 3 were given\n"
     ]
    },
    {
     "name": "stdout",
     "output_type": "stream",
     "text": [
      "\n",
      "=== DEBUG generate_answer ===\n",
      "Pregunta: Desde ayer tengo fatiga extrema, náuseas y entumecimiento en las manos. ¿Debo preocuparme? ¿Qué exámenes necesito?\n",
      "patient_context → 'Error al obtener datos FHIR para paciente-1: The read operation timed out'\n",
      "docs recuperados → 4\n",
      "⤷ primer doc: criterion, especially because other entities dem-\n",
      "onstrate comparable response (eg, esophageal \n",
      "spasm).1,5 Associated sy …\n",
      "=============================\n",
      "\n",
      "\n",
      "🧪 PROMPT COMPLETO QUE RECIBE EL MODELO:\n",
      "\n",
      "System: Eres un profesional médico.\n",
      "                Primero revisa la ficha clínica del paciente.\n",
      "                Luego usa los documentos recuperados para justificar tu respuesta.\n",
      "                === Información del paciente ===\n",
      "                Error al obtener datos FHIR para paciente-1: The read operation timed out\n",
      "                === Documentos de referencia ===\n",
      "                criterion, especially because other entities dem-\n",
      "onstrate comparable response (eg, esophageal \n",
      "spasm).1,5 Associated symptoms such as short-\n",
      "ness of breath, nausea or vomiting, lightheaded-\n",
      "ness, confusion, presyncope or syncope, or vague \n",
      "abdominal symptoms are more frequent among \n",
      "patients with diabetes, women, and the elderly. A \n",
      "detailed assessment of cardiovascular risk factors, \n",
      "review of systems, past medical history, and family \n",
      "and social history should complement the assess-\n",
      "ment of presenting symptoms.\n",
      "Figure 3. Top 10 Causes of Chest Pain in the ED Based on Age (Weighted Percentage)\n",
      "Created using data from Hsia RY et al.3 ED indicates emergency department.\n",
      "Downloaded from http://ahajournals.org by on July 14, 2024\n",
      "\n",
      "---\n",
      "\n",
      "criterion, especially because other entities dem-\n",
      "onstrate comparable response (eg, esophageal \n",
      "spasm).1,5 Associated symptoms such as short-\n",
      "ness of breath, nausea or vomiting, lightheaded-\n",
      "ness, confusion, presyncope or syncope, or vague \n",
      "abdominal symptoms are more frequent among \n",
      "patients with diabetes, women, and the elderly. A \n",
      "detailed assessment of cardiovascular risk factors, \n",
      "review of systems, past medical history, and family \n",
      "and social history should complement the assess-\n",
      "ment of presenting symptoms.\n",
      "Figure 3. Top 10 Causes of Chest Pain in the ED Based on Age (Weighted Percentage)\n",
      "Created using data from Hsia RY et al.3 ED indicates emergency department.\n",
      "Downloaded from http://ahajournals.org by on July 14, 2024\n",
      "\n",
      "---\n",
      "\n",
      "criterion, especially because other entities dem-\n",
      "onstrate comparable response (eg, esophageal \n",
      "spasm).1,5 Associated symptoms such as short-\n",
      "ness of breath, nausea or vomiting, lightheaded-\n",
      "ness, confusion, presyncope or syncope, or vague \n",
      "abdominal symptoms are more frequent among \n",
      "patients with diabetes, women, and the elderly. A \n",
      "detailed assessment of cardiovascular risk factors, \n",
      "review of systems, past medical history, and family \n",
      "and social history should complement the assess-\n",
      "ment of presenting symptoms.\n",
      "Figure 3. Top 10 Causes of Chest Pain in the ED Based on Age (Weighted Percentage)\n",
      "Created using data from Hsia RY et al.3 ED indicates emergency department.\n",
      "Downloaded from http://ahajournals.org by on July 14, 2024\n",
      "Human: Desde ayer tengo fatiga extrema, náuseas y entumecimiento en las manos. ¿Debo preocuparme? ¿Qué exámenes necesito?\n",
      "\n",
      "🔚 FIN DEL PROMPT\n",
      "\n",
      "=== LLM raw output === 'Hello! I understand your concerns and would like to inform you that there are many factors that might cause the symptoms you mentioned, such as poor sleep quality, excessive stress, depression or anemia. There is no way to determine what is causing these symptoms through a text-based communication. The best thing to do is to see a doctor who can conduct some physical examination and ordering some tests, in order to rule out any serious underlying condition. If you are still concerned about this, I recommend you consult with your family physician for an appointment or contact a healthcare provider online such as Chat Doctor who can evaluate your symptoms and give you recommendations. Please take care of yourself!' \n",
      "\n",
      "🧠 RESPUESTA FINAL DEL LLM:\n",
      "\n",
      "Hello! I understand your concerns and would like to inform you that there are many factors that might cause the symptoms you mentioned, such as poor sleep quality, excessive stress, depression or anemia. There is no way to determine what is causing these symptoms through a text-based communication. The best thing to do is to see a doctor who can conduct some physical examination and ordering some tests, in order to rule out any serious underlying condition. If you are still concerned about this, I recommend you consult with your family physician for an appointment or contact a healthcare provider online such as Chat Doctor who can evaluate your symptoms and give you recommendations. Please take care of yourself!\n"
     ]
    }
   ],
   "source": [
    "response = bot.app.invoke(\n",
    "    {\n",
    "        \"question\": user_query,\n",
    "        \"patient_id\": patient_id\n",
    "    }\n",
    ")\n",
    "\n",
    "print(\"🧠 RESPUESTA FINAL DEL LLM:\\n\")\n",
    "print(response[\"llm_output\"])"
   ]
  },
  {
   "cell_type": "code",
   "execution_count": 1,
   "id": "f066a062",
   "metadata": {},
   "outputs": [
    {
     "name": "stdout",
     "output_type": "stream",
     "text": [
      "WARNING:tensorflow:From c:\\Users\\Usuario\\anaconda3\\Lib\\site-packages\\tf_keras\\src\\losses.py:2976: The name tf.losses.sparse_softmax_cross_entropy is deprecated. Please use tf.compat.v1.losses.sparse_softmax_cross_entropy instead.\n",
      "\n"
     ]
    },
    {
     "name": "stderr",
     "output_type": "stream",
     "text": [
      "Failed to send telemetry event ClientStartEvent: capture() takes 1 positional argument but 3 were given\n",
      "Failed to send telemetry event ClientCreateCollectionEvent: capture() takes 1 positional argument but 3 were given\n",
      "Failed to send telemetry event CollectionQueryEvent: capture() takes 1 positional argument but 3 were given\n"
     ]
    },
    {
     "name": "stdout",
     "output_type": "stream",
     "text": [
      "\n",
      "=== DEBUG generate_answer ===\n",
      "Pregunta: Mi paciente oncológico tiene fatiga crónica y está tomando tamoxifeno. ¿Hay alertas?\n",
      "patient_context → 'Error al obtener datos FHIR para paciente-1: RetryError[<Future at 0x22a33207b10 state=finished raised TypeError>]'\n",
      "docs recuperados → 4\n",
      "⤷ primer doc: the disease. Reducing the prevalence and incidence of a preventable disease first begins with discovering the cause of t …\n",
      "=============================\n",
      "\n",
      "\n",
      "🧪 PROMPT COMPLETO QUE RECIBE EL MODELO:\n",
      "\n",
      "System: Eres un profesional médico.\n",
      "                Primero revisa la ficha clínica del paciente.\n",
      "                Luego usa los documentos recuperados para justificar tu respuesta.\n",
      "                === Información del paciente ===\n",
      "                Error al obtener datos FHIR para paciente-1: RetryError[<Future at 0x22a33207b10 state=finished raised TypeError>]\n",
      "                === Documentos de referencia ===\n",
      "                the disease. Reducing the prevalence and incidence of a preventable disease first begins with discovering the cause of the disease and then providing the education and promotion necessary to the general public in order to further education and prevent an outbreak.  During the 2004-2005 school year, Y. Gilaberte (2008) and collogues performed a study in Spain about health education for children regarding skin cancer. Although this study was performed more than a decade in the past, their findings about skin cancer education are still relevant today. Their study was outlined as follows:  The incidence of skin cancer is increasing worldwide, and Spain is no exception.  SolSano is the first Spanish health education program for sun safety directed at  elementary school children. The objective was to evaluate SolSano's effects on  students' knowledge, attitudes and practices about sun safety. A non-randomized,  before/after, community intervention without control group, with schools as the\n",
      "\n",
      "---\n",
      "\n",
      "the disease. Reducing the prevalence and incidence of a preventable disease first begins with discovering the cause of the disease and then providing the education and promotion necessary to the general public in order to further education and prevent an outbreak.  During the 2004-2005 school year, Y. Gilaberte (2008) and collogues performed a study in Spain about health education for children regarding skin cancer. Although this study was performed more than a decade in the past, their findings about skin cancer education are still relevant today. Their study was outlined as follows:  The incidence of skin cancer is increasing worldwide, and Spain is no exception.  SolSano is the first Spanish health education program for sun safety directed at  elementary school children. The objective was to evaluate SolSano's effects on  students' knowledge, attitudes and practices about sun safety. A non-randomized,  before/after, community intervention without control group, with schools as the\n",
      "\n",
      "---\n",
      "\n",
      "the disease. Reducing the prevalence and incidence of a preventable disease first begins with discovering the cause of the disease and then providing the education and promotion necessary to the general public in order to further education and prevent an outbreak.  During the 2004-2005 school year, Y. Gilaberte (2008) and collogues performed a study in Spain about health education for children regarding skin cancer. Although this study was performed more than a decade in the past, their findings about skin cancer education are still relevant today. Their study was outlined as follows:  The incidence of skin cancer is increasing worldwide, and Spain is no exception.  SolSano is the first Spanish health education program for sun safety directed at  elementary school children. The objective was to evaluate SolSano's effects on  students' knowledge, attitudes and practices about sun safety. A non-randomized,  before/after, community intervention without control group, with schools as the\n",
      "Human: Mi paciente oncológico tiene fatiga crónica y está tomando tamoxifeno. ¿Hay alertas?\n",
      "\n",
      "🔚 FIN DEL PROMPT\n",
      "\n",
      "=== LLM raw output === '¡Hola! Como médico oncológico, puedo decir que la fatiga crónica puede ser un síntoma muy común en pacientes con cáncer y su tratamiento. Sin embargo, si se está tomando tamoxifeno, es importante mencionar que éste medicamento puede aumentar la probabilidad de efectos secundarios como la fatiga. Aunque no hay alertas específicas para la combinación de tamoxifeno y fatiga crónica, puedo sugerir algunas opciones de tratamiento para tratar la fatiga:\\n\\n1. Comunicarse con el equipo médico: Es importante mencionar la fatiga a los profesionales de la salud que se encarguen del cuidado oncológico para evaluar si es necesario ajustar el régimen de medicamentos o realizar pruebas adicionales.\\n\\n2. Aumentar la actividad física moderada: La actividad física puede ser beneficioso para reducir la fatiga en pacientes con cáncer y su tratamiento. Sin embargo, es importante mencionar que no se debe sobrecargar el paciente.\\n\\n3. Realizar ejercicios respiratorios y de tensión muscular: Los ejercicios respiratorios pueden ayudar a reducir la fatiga mientras se realizan los exercicios de tensión muscular.\\n\\n4. Tratar problemas de sueño: La fatiga puede ser un síntoma común en pacientes con cáncer, y los problemas de sueño pueden empeorarlo. Es importante tratar el insomnio para reducir la fatiga.\\n\\n5. Comunicarse con un psiquiatra o un terapeuta para recibir apoyo emocional: La fatiga puede ser una carga emocional significativa para los pacientes, por lo que es importante recibir apoyo emocional de un profesional capacitado.\\n\\nRecuerda que cada paciente es único y diferente, por lo que es importante mencionar la fatiga crónica a los profesionales de la salud que se encarguen del cuidado oncológico. ¡Espero que esto te ayude! ¡Si tienes alguna pregunta adicional, no dudes en preguntar!' \n",
      "\n",
      "¡Hola! Como médico oncológico, puedo decir que la fatiga crónica puede ser un síntoma muy común en pacientes con cáncer y su tratamiento. Sin embargo, si se está tomando tamoxifeno, es importante mencionar que éste medicamento puede aumentar la probabilidad de efectos secundarios como la fatiga. Aunque no hay alertas específicas para la combinación de tamoxifeno y fatiga crónica, puedo sugerir algunas opciones de tratamiento para tratar la fatiga:\n",
      "\n",
      "1. Comunicarse con el equipo médico: Es importante mencionar la fatiga a los profesionales de la salud que se encarguen del cuidado oncológico para evaluar si es necesario ajustar el régimen de medicamentos o realizar pruebas adicionales.\n",
      "\n",
      "2. Aumentar la actividad física moderada: La actividad física puede ser beneficioso para reducir la fatiga en pacientes con cáncer y su tratamiento. Sin embargo, es importante mencionar que no se debe sobrecargar el paciente.\n",
      "\n",
      "3. Realizar ejercicios respiratorios y de tensión muscular: Los ejercicios respiratorios pueden ayudar a reducir la fatiga mientras se realizan los exercicios de tensión muscular.\n",
      "\n",
      "4. Tratar problemas de sueño: La fatiga puede ser un síntoma común en pacientes con cáncer, y los problemas de sueño pueden empeorarlo. Es importante tratar el insomnio para reducir la fatiga.\n",
      "\n",
      "5. Comunicarse con un psiquiatra o un terapeuta para recibir apoyo emocional: La fatiga puede ser una carga emocional significativa para los pacientes, por lo que es importante recibir apoyo emocional de un profesional capacitado.\n",
      "\n",
      "Recuerda que cada paciente es único y diferente, por lo que es importante mencionar la fatiga crónica a los profesionales de la salud que se encarguen del cuidado oncológico. ¡Espero que esto te ayude! ¡Si tienes alguna pregunta adicional, no dudes en preguntar!\n"
     ]
    }
   ],
   "source": [
    "from RAG.rag import RAG_chatbot\n",
    "\n",
    "bot = RAG_chatbot()\n",
    "\n",
    "resp = bot.app.invoke({\n",
    "    \"question\": \"Mi paciente oncológico tiene fatiga crónica y está tomando tamoxifeno. ¿Hay alertas?\",\n",
    "    \"patient_id\": \"paciente-1\"\n",
    "})\n",
    "\n",
    "print(resp[\"llm_output\"])"
   ]
  }
 ],
 "metadata": {
  "kernelspec": {
   "display_name": "base",
   "language": "python",
   "name": "python3"
  },
  "language_info": {
   "codemirror_mode": {
    "name": "ipython",
    "version": 3
   },
   "file_extension": ".py",
   "mimetype": "text/x-python",
   "name": "python",
   "nbconvert_exporter": "python",
   "pygments_lexer": "ipython3",
   "version": "3.11.7"
  }
 },
 "nbformat": 4,
 "nbformat_minor": 5
}
